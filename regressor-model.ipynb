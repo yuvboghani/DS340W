{
 "cells": [
  {
   "cell_type": "markdown",
   "id": "b4cd2024",
   "metadata": {},
   "source": [
    "---\n",
    "# YAML data for Mercury App\n",
    "title: Prediction using XGBoost\n",
    "description: Stock Market Prediction using XGBoost method\n",
    "show-code: True\n",
    "author: Anurag M Bagde\n",
    "show-prompt: True\n",
    "---"
   ]
  },
  {
   "cell_type": "code",
   "execution_count": 1,
   "id": "66a62ddf",
   "metadata": {
    "_cell_guid": "b1076dfc-b9ad-4769-8c92-a6c4dae69d19",
    "_uuid": "8f2839f25d086af736a60e9eeb907d3b93b6e0e5",
    "execution": {
     "iopub.execute_input": "2021-12-28T05:11:38.840881Z",
     "iopub.status.busy": "2021-12-28T05:11:38.840229Z",
     "iopub.status.idle": "2021-12-28T05:11:40.075429Z",
     "shell.execute_reply": "2021-12-28T05:11:40.075939Z",
     "shell.execute_reply.started": "2021-12-28T05:10:26.506068Z"
    },
    "papermill": {
     "duration": 1.258832,
     "end_time": "2021-12-28T05:11:40.076260",
     "exception": false,
     "start_time": "2021-12-28T05:11:38.817428",
     "status": "completed"
    },
    "tags": []
   },
   "outputs": [],
   "source": [
    "# Done by Anurag M Bagde (2019506120) \n",
    "\n",
    "import numpy as np\n",
    "import pandas as pd\n",
    "from xgboost import XGBRegressor\n",
    "import matplotlib.pyplot as plt\n",
    "%matplotlib inline\n",
    "from sklearn import metrics"
   ]
  },
  {
   "cell_type": "code",
   "execution_count": 2,
   "id": "7ffa0fd2",
   "metadata": {
    "execution": {
     "iopub.execute_input": "2021-12-28T05:11:40.106890Z",
     "iopub.status.busy": "2021-12-28T05:11:40.106298Z",
     "iopub.status.idle": "2021-12-28T05:11:40.169340Z",
     "shell.execute_reply": "2021-12-28T05:11:40.169848Z",
     "shell.execute_reply.started": "2021-12-28T05:10:27.711163Z"
    },
    "papermill": {
     "duration": 0.078401,
     "end_time": "2021-12-28T05:11:40.170030",
     "exception": false,
     "start_time": "2021-12-28T05:11:40.091629",
     "status": "completed"
    },
    "tags": []
   },
   "outputs": [
    {
     "data": {
      "text/html": [
       "<div>\n",
       "<style scoped>\n",
       "    .dataframe tbody tr th:only-of-type {\n",
       "        vertical-align: middle;\n",
       "    }\n",
       "\n",
       "    .dataframe tbody tr th {\n",
       "        vertical-align: top;\n",
       "    }\n",
       "\n",
       "    .dataframe thead th {\n",
       "        text-align: right;\n",
       "    }\n",
       "</style>\n",
       "<table border=\"1\" class=\"dataframe\">\n",
       "  <thead>\n",
       "    <tr style=\"text-align: right;\">\n",
       "      <th></th>\n",
       "      <th>Open</th>\n",
       "      <th>High</th>\n",
       "      <th>Low</th>\n",
       "      <th>Close</th>\n",
       "      <th>Adj Close</th>\n",
       "      <th>Volume</th>\n",
       "      <th>ts_polarity</th>\n",
       "      <th>twitter_volume</th>\n",
       "    </tr>\n",
       "    <tr>\n",
       "      <th>Date</th>\n",
       "      <th></th>\n",
       "      <th></th>\n",
       "      <th></th>\n",
       "      <th></th>\n",
       "      <th></th>\n",
       "      <th></th>\n",
       "      <th></th>\n",
       "      <th></th>\n",
       "    </tr>\n",
       "  </thead>\n",
       "  <tbody>\n",
       "    <tr>\n",
       "      <th>2019-08-26</th>\n",
       "      <td>51.47</td>\n",
       "      <td>51.80</td>\n",
       "      <td>51.26</td>\n",
       "      <td>51.62</td>\n",
       "      <td>51.12</td>\n",
       "      <td>104174400</td>\n",
       "      <td>0.072340</td>\n",
       "      <td>888.0</td>\n",
       "    </tr>\n",
       "    <tr>\n",
       "      <th>2019-08-27</th>\n",
       "      <td>51.97</td>\n",
       "      <td>52.14</td>\n",
       "      <td>50.88</td>\n",
       "      <td>51.04</td>\n",
       "      <td>50.54</td>\n",
       "      <td>103493200</td>\n",
       "      <td>0.117541</td>\n",
       "      <td>962.0</td>\n",
       "    </tr>\n",
       "    <tr>\n",
       "      <th>2019-08-28</th>\n",
       "      <td>51.03</td>\n",
       "      <td>51.43</td>\n",
       "      <td>50.83</td>\n",
       "      <td>51.38</td>\n",
       "      <td>50.88</td>\n",
       "      <td>63755200</td>\n",
       "      <td>0.061477</td>\n",
       "      <td>895.0</td>\n",
       "    </tr>\n",
       "    <tr>\n",
       "      <th>2019-08-29</th>\n",
       "      <td>52.13</td>\n",
       "      <td>52.33</td>\n",
       "      <td>51.67</td>\n",
       "      <td>52.25</td>\n",
       "      <td>51.74</td>\n",
       "      <td>83962000</td>\n",
       "      <td>0.056460</td>\n",
       "      <td>1083.0</td>\n",
       "    </tr>\n",
       "    <tr>\n",
       "      <th>2019-08-30</th>\n",
       "      <td>52.54</td>\n",
       "      <td>52.61</td>\n",
       "      <td>51.80</td>\n",
       "      <td>52.19</td>\n",
       "      <td>51.67</td>\n",
       "      <td>84573600</td>\n",
       "      <td>0.106096</td>\n",
       "      <td>1005.0</td>\n",
       "    </tr>\n",
       "  </tbody>\n",
       "</table>\n",
       "</div>"
      ],
      "text/plain": [
       "             Open   High    Low  Close  Adj Close     Volume  ts_polarity  \\\n",
       "Date                                                                        \n",
       "2019-08-26  51.47  51.80  51.26  51.62      51.12  104174400     0.072340   \n",
       "2019-08-27  51.97  52.14  50.88  51.04      50.54  103493200     0.117541   \n",
       "2019-08-28  51.03  51.43  50.83  51.38      50.88   63755200     0.061477   \n",
       "2019-08-29  52.13  52.33  51.67  52.25      51.74   83962000     0.056460   \n",
       "2019-08-30  52.54  52.61  51.80  52.19      51.67   84573600     0.106096   \n",
       "\n",
       "            twitter_volume  \n",
       "Date                        \n",
       "2019-08-26           888.0  \n",
       "2019-08-27           962.0  \n",
       "2019-08-28           895.0  \n",
       "2019-08-29          1083.0  \n",
       "2019-08-30          1005.0  "
      ]
     },
     "execution_count": 2,
     "metadata": {},
     "output_type": "execute_result"
    }
   ],
   "source": [
    "# Read APPL.csv contains open, high, low, close, Adj close, Volume of Apple stock with twitter polarity scores and twitter volume\n",
    "df = pd.read_csv('../input/tweets/AAPL.csv', index_col=\"Date\", infer_datetime_format=True, parse_dates=True)\n",
    "\n",
    "# Drop null values\n",
    "df.dropna(inplace=True)\n",
    "df.tail()"
   ]
  },
  {
   "cell_type": "code",
   "execution_count": 3,
   "id": "bc7a21b3",
   "metadata": {
    "execution": {
     "iopub.execute_input": "2021-12-28T05:11:40.196973Z",
     "iopub.status.busy": "2021-12-28T05:11:40.196053Z",
     "iopub.status.idle": "2021-12-28T05:11:40.208128Z",
     "shell.execute_reply": "2021-12-28T05:11:40.208796Z",
     "shell.execute_reply.started": "2021-12-28T05:10:27.770801Z"
    },
    "papermill": {
     "duration": 0.027209,
     "end_time": "2021-12-28T05:11:40.209112",
     "exception": false,
     "start_time": "2021-12-28T05:11:40.181903",
     "status": "completed"
    },
    "tags": []
   },
   "outputs": [
    {
     "data": {
      "text/html": [
       "<div>\n",
       "<style scoped>\n",
       "    .dataframe tbody tr th:only-of-type {\n",
       "        vertical-align: middle;\n",
       "    }\n",
       "\n",
       "    .dataframe tbody tr th {\n",
       "        vertical-align: top;\n",
       "    }\n",
       "\n",
       "    .dataframe thead th {\n",
       "        text-align: right;\n",
       "    }\n",
       "</style>\n",
       "<table border=\"1\" class=\"dataframe\">\n",
       "  <thead>\n",
       "    <tr style=\"text-align: right;\">\n",
       "      <th></th>\n",
       "      <th>Adj Close</th>\n",
       "      <th>ts_polarity</th>\n",
       "      <th>twitter_volume</th>\n",
       "    </tr>\n",
       "    <tr>\n",
       "      <th>Date</th>\n",
       "      <th></th>\n",
       "      <th></th>\n",
       "      <th></th>\n",
       "    </tr>\n",
       "  </thead>\n",
       "  <tbody>\n",
       "    <tr>\n",
       "      <th>2016-01-04</th>\n",
       "      <td>24.44</td>\n",
       "      <td>0.070389</td>\n",
       "      <td>1133.0</td>\n",
       "    </tr>\n",
       "    <tr>\n",
       "      <th>2016-01-05</th>\n",
       "      <td>23.83</td>\n",
       "      <td>0.133635</td>\n",
       "      <td>1430.0</td>\n",
       "    </tr>\n",
       "    <tr>\n",
       "      <th>2016-01-06</th>\n",
       "      <td>23.36</td>\n",
       "      <td>0.072042</td>\n",
       "      <td>1949.0</td>\n",
       "    </tr>\n",
       "    <tr>\n",
       "      <th>2016-01-07</th>\n",
       "      <td>22.38</td>\n",
       "      <td>0.074369</td>\n",
       "      <td>2289.0</td>\n",
       "    </tr>\n",
       "    <tr>\n",
       "      <th>2016-01-08</th>\n",
       "      <td>22.50</td>\n",
       "      <td>0.051595</td>\n",
       "      <td>2235.0</td>\n",
       "    </tr>\n",
       "  </tbody>\n",
       "</table>\n",
       "</div>"
      ],
      "text/plain": [
       "            Adj Close  ts_polarity  twitter_volume\n",
       "Date                                              \n",
       "2016-01-04      24.44     0.070389          1133.0\n",
       "2016-01-05      23.83     0.133635          1430.0\n",
       "2016-01-06      23.36     0.072042          1949.0\n",
       "2016-01-07      22.38     0.074369          2289.0\n",
       "2016-01-08      22.50     0.051595          2235.0"
      ]
     },
     "execution_count": 3,
     "metadata": {},
     "output_type": "execute_result"
    }
   ],
   "source": [
    "# Dataframe with Adj close, ts_polarity, twitter_volume of APPL\n",
    "df = df[[\"Adj Close\", \"ts_polarity\", \"twitter_volume\"]]\n",
    "df.head()"
   ]
  },
  {
   "cell_type": "code",
   "execution_count": 4,
   "id": "b89af7a7",
   "metadata": {
    "execution": {
     "iopub.execute_input": "2021-12-28T05:11:40.238296Z",
     "iopub.status.busy": "2021-12-28T05:11:40.237255Z",
     "iopub.status.idle": "2021-12-28T05:11:40.262143Z",
     "shell.execute_reply": "2021-12-28T05:11:40.262669Z",
     "shell.execute_reply.started": "2021-12-28T05:10:27.787124Z"
    },
    "papermill": {
     "duration": 0.040605,
     "end_time": "2021-12-28T05:11:40.262855",
     "exception": false,
     "start_time": "2021-12-28T05:11:40.222250",
     "status": "completed"
    },
    "tags": []
   },
   "outputs": [
    {
     "data": {
      "text/html": [
       "<div>\n",
       "<style scoped>\n",
       "    .dataframe tbody tr th:only-of-type {\n",
       "        vertical-align: middle;\n",
       "    }\n",
       "\n",
       "    .dataframe tbody tr th {\n",
       "        vertical-align: top;\n",
       "    }\n",
       "\n",
       "    .dataframe thead th {\n",
       "        text-align: right;\n",
       "    }\n",
       "</style>\n",
       "<table border=\"1\" class=\"dataframe\">\n",
       "  <thead>\n",
       "    <tr style=\"text-align: right;\">\n",
       "      <th></th>\n",
       "      <th>Adj Close</th>\n",
       "      <th>ts_polarity</th>\n",
       "      <th>twitter_volume</th>\n",
       "      <th>Pct_change</th>\n",
       "    </tr>\n",
       "    <tr>\n",
       "      <th>Date</th>\n",
       "      <th></th>\n",
       "      <th></th>\n",
       "      <th></th>\n",
       "      <th></th>\n",
       "    </tr>\n",
       "  </thead>\n",
       "  <tbody>\n",
       "    <tr>\n",
       "      <th>2016-01-05</th>\n",
       "      <td>23.83</td>\n",
       "      <td>0.133635</td>\n",
       "      <td>1430.0</td>\n",
       "      <td>-0.024959</td>\n",
       "    </tr>\n",
       "    <tr>\n",
       "      <th>2016-01-06</th>\n",
       "      <td>23.36</td>\n",
       "      <td>0.072042</td>\n",
       "      <td>1949.0</td>\n",
       "      <td>-0.019723</td>\n",
       "    </tr>\n",
       "    <tr>\n",
       "      <th>2016-01-07</th>\n",
       "      <td>22.38</td>\n",
       "      <td>0.074369</td>\n",
       "      <td>2289.0</td>\n",
       "      <td>-0.041952</td>\n",
       "    </tr>\n",
       "    <tr>\n",
       "      <th>2016-01-08</th>\n",
       "      <td>22.50</td>\n",
       "      <td>0.051595</td>\n",
       "      <td>2235.0</td>\n",
       "      <td>0.005362</td>\n",
       "    </tr>\n",
       "    <tr>\n",
       "      <th>2016-01-11</th>\n",
       "      <td>22.86</td>\n",
       "      <td>0.019443</td>\n",
       "      <td>1222.0</td>\n",
       "      <td>0.016000</td>\n",
       "    </tr>\n",
       "  </tbody>\n",
       "</table>\n",
       "</div>"
      ],
      "text/plain": [
       "            Adj Close  ts_polarity  twitter_volume  Pct_change\n",
       "Date                                                          \n",
       "2016-01-05      23.83     0.133635          1430.0   -0.024959\n",
       "2016-01-06      23.36     0.072042          1949.0   -0.019723\n",
       "2016-01-07      22.38     0.074369          2289.0   -0.041952\n",
       "2016-01-08      22.50     0.051595          2235.0    0.005362\n",
       "2016-01-11      22.86     0.019443          1222.0    0.016000"
      ]
     },
     "execution_count": 4,
     "metadata": {},
     "output_type": "execute_result"
    }
   ],
   "source": [
    "# pct change based on Adj close value\n",
    "df[\"Pct_change\"] = df[\"Adj Close\"].pct_change()\n",
    "\n",
    "# Drop null values\n",
    "df.dropna(inplace = True)\n",
    "df.head()"
   ]
  },
  {
   "cell_type": "code",
   "execution_count": 5,
   "id": "e520e8a8",
   "metadata": {
    "execution": {
     "iopub.execute_input": "2021-12-28T05:11:40.291000Z",
     "iopub.status.busy": "2021-12-28T05:11:40.290060Z",
     "iopub.status.idle": "2021-12-28T05:11:40.297102Z",
     "shell.execute_reply": "2021-12-28T05:11:40.297565Z",
     "shell.execute_reply.started": "2021-12-28T05:10:27.820129Z"
    },
    "papermill": {
     "duration": 0.022592,
     "end_time": "2021-12-28T05:11:40.297752",
     "exception": false,
     "start_time": "2021-12-28T05:11:40.275160",
     "status": "completed"
    },
    "tags": []
   },
   "outputs": [],
   "source": [
    "# This function \"window_data\" accepts the column number for the features (X) and the target (y)\n",
    "# It chunks the data up with a rolling window of Xt-n to predict Xt\n",
    "# It returns a numpy array of X any y\n",
    "def window_data(df, window, feature_col_number1, feature_col_number2, feature_col_number3, target_col_number):\n",
    "    # Create empty lists \"X_close\", \"X_polarity\", \"X_volume\" and y\n",
    "    X_close = []\n",
    "    X_polarity = []\n",
    "    X_volume = []\n",
    "    y = []\n",
    "    for i in range(len(df) - window):\n",
    "        \n",
    "        # Get close, ts_polarity, tw_vol, and target in the loop\n",
    "        close = df.iloc[i:(i + window), feature_col_number1]\n",
    "        ts_polarity = df.iloc[i:(i + window), feature_col_number2]\n",
    "        tw_vol = df.iloc[i:(i + window), feature_col_number3]\n",
    "        target = df.iloc[(i + window), target_col_number]\n",
    "        \n",
    "        # Append values in the lists\n",
    "        X_close.append(close)\n",
    "        X_polarity.append(ts_polarity)\n",
    "        X_volume.append(tw_vol)\n",
    "        y.append(target)\n",
    "        \n",
    "    return np.hstack((X_close,X_polarity,X_volume)), np.array(y).reshape(-1, 1)"
   ]
  },
  {
   "cell_type": "code",
   "execution_count": 6,
   "id": "1fcec13d",
   "metadata": {
    "execution": {
     "iopub.execute_input": "2021-12-28T05:11:40.333748Z",
     "iopub.status.busy": "2021-12-28T05:11:40.332676Z",
     "iopub.status.idle": "2021-12-28T05:11:40.789733Z",
     "shell.execute_reply": "2021-12-28T05:11:40.789161Z",
     "shell.execute_reply.started": "2021-12-28T05:10:27.830344Z"
    },
    "papermill": {
     "duration": 0.480035,
     "end_time": "2021-12-28T05:11:40.789930",
     "exception": false,
     "start_time": "2021-12-28T05:11:40.309895",
     "status": "completed"
    },
    "tags": []
   },
   "outputs": [],
   "source": [
    "# Predict Closing Prices using a 3 day window of previous closing prices\n",
    "window_size = 3\n",
    "\n",
    "# Column index 0 is the `Adj Close` column\n",
    "# Column index 1 is the `ts_polarity` column\n",
    "# Column index 2 is the `twitter_volume` column\n",
    "feature_col_number1 = 0\n",
    "feature_col_number2 = 1\n",
    "feature_col_number3 = 2\n",
    "target_col_number = 0\n",
    "X, y = window_data(df, window_size, feature_col_number1, feature_col_number2, feature_col_number3, target_col_number)"
   ]
  },
  {
   "cell_type": "code",
   "execution_count": 7,
   "id": "4711a25a",
   "metadata": {
    "execution": {
     "iopub.execute_input": "2021-12-28T05:11:40.817658Z",
     "iopub.status.busy": "2021-12-28T05:11:40.817051Z",
     "iopub.status.idle": "2021-12-28T05:11:40.822027Z",
     "shell.execute_reply": "2021-12-28T05:11:40.821489Z",
     "shell.execute_reply.started": "2021-12-28T05:10:28.360993Z"
    },
    "papermill": {
     "duration": 0.020001,
     "end_time": "2021-12-28T05:11:40.822166",
     "exception": false,
     "start_time": "2021-12-28T05:11:40.802165",
     "status": "completed"
    },
    "tags": []
   },
   "outputs": [],
   "source": [
    "# Use 70% of the data for training and 30% for testing\n",
    "X_split = int(0.7 * len(X))\n",
    "y_split = int(0.7 * len(y))\n",
    "\n",
    "# Set X_train, X_test, y_train, t_test\n",
    "X_train = X[: X_split]\n",
    "X_test = X[X_split:]\n",
    "y_train = y[: y_split]\n",
    "y_test = y[y_split:]"
   ]
  },
  {
   "cell_type": "markdown",
   "id": "faf1a755",
   "metadata": {
    "papermill": {
     "duration": 0.011905,
     "end_time": "2021-12-28T05:11:40.846526",
     "exception": false,
     "start_time": "2021-12-28T05:11:40.834621",
     "status": "completed"
    },
    "tags": []
   },
   "source": [
    "**Scaling Data with MinMax scaler!**"
   ]
  },
  {
   "cell_type": "code",
   "execution_count": 8,
   "id": "4bad3135",
   "metadata": {
    "execution": {
     "iopub.execute_input": "2021-12-28T05:11:40.875507Z",
     "iopub.status.busy": "2021-12-28T05:11:40.874381Z",
     "iopub.status.idle": "2021-12-28T05:11:40.878496Z",
     "shell.execute_reply": "2021-12-28T05:11:40.878998Z",
     "shell.execute_reply.started": "2021-12-28T05:10:28.368408Z"
    },
    "papermill": {
     "duration": 0.019865,
     "end_time": "2021-12-28T05:11:40.879237",
     "exception": false,
     "start_time": "2021-12-28T05:11:40.859372",
     "status": "completed"
    },
    "tags": []
   },
   "outputs": [],
   "source": [
    "from sklearn.preprocessing import MinMaxScaler"
   ]
  },
  {
   "cell_type": "code",
   "execution_count": 9,
   "id": "db0ba2e6",
   "metadata": {
    "execution": {
     "iopub.execute_input": "2021-12-28T05:11:40.908198Z",
     "iopub.status.busy": "2021-12-28T05:11:40.907244Z",
     "iopub.status.idle": "2021-12-28T05:11:40.914241Z",
     "shell.execute_reply": "2021-12-28T05:11:40.914718Z",
     "shell.execute_reply.started": "2021-12-28T05:10:28.382495Z"
    },
    "papermill": {
     "duration": 0.022629,
     "end_time": "2021-12-28T05:11:40.914900",
     "exception": false,
     "start_time": "2021-12-28T05:11:40.892271",
     "status": "completed"
    },
    "tags": []
   },
   "outputs": [],
   "source": [
    "# Use the MinMaxScaler to scale data between 0 and 1.\n",
    "x_train_scaler = MinMaxScaler()\n",
    "x_test_scaler = MinMaxScaler()\n",
    "y_train_scaler = MinMaxScaler()\n",
    "y_test_scaler = MinMaxScaler()\n",
    "\n",
    "# Fit the scaler for the Training Data\n",
    "x_train_scaler.fit(X_train)\n",
    "y_train_scaler.fit(y_train)\n",
    "\n",
    "# Scale the training data\n",
    "X_train = x_train_scaler.transform(X_train)\n",
    "y_train = y_train_scaler.transform(y_train)\n",
    "\n",
    "# Fit the scaler for the Testing Data\n",
    "x_test_scaler.fit(X_test)\n",
    "y_test_scaler.fit(y_test)\n",
    "\n",
    "# Scale the y_test data\n",
    "X_test = x_test_scaler.transform(X_test)\n",
    "y_test = y_test_scaler.transform(y_test)"
   ]
  },
  {
   "cell_type": "code",
   "execution_count": 10,
   "id": "d1d5f91a",
   "metadata": {
    "execution": {
     "iopub.execute_input": "2021-12-28T05:11:40.946560Z",
     "iopub.status.busy": "2021-12-28T05:11:40.945756Z",
     "iopub.status.idle": "2021-12-28T05:11:40.948154Z",
     "shell.execute_reply": "2021-12-28T05:11:40.948703Z",
     "shell.execute_reply.started": "2021-12-28T05:10:28.397072Z"
    },
    "papermill": {
     "duration": 0.020865,
     "end_time": "2021-12-28T05:11:40.948885",
     "exception": false,
     "start_time": "2021-12-28T05:11:40.928020",
     "status": "completed"
    },
    "tags": []
   },
   "outputs": [],
   "source": [
    "# Create the XG Boost regressor instance\n",
    "model = XGBRegressor(objective='reg:squarederror', n_estimators=1000)"
   ]
  },
  {
   "cell_type": "code",
   "execution_count": 11,
   "id": "307ce0b5",
   "metadata": {
    "execution": {
     "iopub.execute_input": "2021-12-28T05:11:40.977942Z",
     "iopub.status.busy": "2021-12-28T05:11:40.976291Z",
     "iopub.status.idle": "2021-12-28T05:11:45.634398Z",
     "shell.execute_reply": "2021-12-28T05:11:45.633800Z",
     "shell.execute_reply.started": "2021-12-28T05:10:28.407176Z"
    },
    "papermill": {
     "duration": 4.673278,
     "end_time": "2021-12-28T05:11:45.634535",
     "exception": false,
     "start_time": "2021-12-28T05:11:40.961257",
     "status": "completed"
    },
    "tags": []
   },
   "outputs": [
    {
     "data": {
      "text/plain": [
       "XGBRegressor(base_score=0.5, booster='gbtree', colsample_bylevel=1,\n",
       "             colsample_bynode=1, colsample_bytree=1, enable_categorical=False,\n",
       "             gamma=0, gpu_id=-1, importance_type=None,\n",
       "             interaction_constraints='', learning_rate=0.300000012,\n",
       "             max_delta_step=0, max_depth=6, min_child_weight=1, missing=nan,\n",
       "             monotone_constraints='()', n_estimators=1000, n_jobs=4,\n",
       "             num_parallel_tree=1, predictor='auto', random_state=0, reg_alpha=0,\n",
       "             reg_lambda=1, scale_pos_weight=1, subsample=1, tree_method='exact',\n",
       "             validate_parameters=1, verbosity=None)"
      ]
     },
     "execution_count": 11,
     "metadata": {},
     "output_type": "execute_result"
    }
   ],
   "source": [
    "# Fit the model\n",
    "model.fit(X_train, y_train.ravel())"
   ]
  },
  {
   "cell_type": "markdown",
   "id": "3becbb90",
   "metadata": {
    "papermill": {
     "duration": 0.012284,
     "end_time": "2021-12-28T05:11:45.660485",
     "exception": false,
     "start_time": "2021-12-28T05:11:45.648201",
     "status": "completed"
    },
    "tags": []
   },
   "source": [
    "**Model performance**"
   ]
  },
  {
   "cell_type": "code",
   "execution_count": 12,
   "id": "855aa7a7",
   "metadata": {
    "execution": {
     "iopub.execute_input": "2021-12-28T05:11:45.691397Z",
     "iopub.status.busy": "2021-12-28T05:11:45.690780Z",
     "iopub.status.idle": "2021-12-28T05:11:45.700668Z",
     "shell.execute_reply": "2021-12-28T05:11:45.701164Z",
     "shell.execute_reply.started": "2021-12-28T05:10:31.941148Z"
    },
    "papermill": {
     "duration": 0.02833,
     "end_time": "2021-12-28T05:11:45.701366",
     "exception": false,
     "start_time": "2021-12-28T05:11:45.673036",
     "status": "completed"
    },
    "tags": []
   },
   "outputs": [],
   "source": [
    "# Make some predictions\n",
    "predicted = model.predict(X_test)"
   ]
  },
  {
   "cell_type": "code",
   "execution_count": 13,
   "id": "2d6554f8",
   "metadata": {
    "execution": {
     "iopub.execute_input": "2021-12-28T05:11:45.733740Z",
     "iopub.status.busy": "2021-12-28T05:11:45.732543Z",
     "iopub.status.idle": "2021-12-28T05:11:45.736750Z",
     "shell.execute_reply": "2021-12-28T05:11:45.737238Z",
     "shell.execute_reply.started": "2021-12-28T05:10:31.952943Z"
    },
    "papermill": {
     "duration": 0.023302,
     "end_time": "2021-12-28T05:11:45.737406",
     "exception": false,
     "start_time": "2021-12-28T05:11:45.714104",
     "status": "completed"
    },
    "tags": []
   },
   "outputs": [
    {
     "name": "stdout",
     "output_type": "stream",
     "text": [
      "Root Mean Squared Error: 0.04766297161947317\n",
      "R-squared : 0.9591504900093728\n"
     ]
    }
   ],
   "source": [
    "# Evaluating the model\n",
    "print('Root Mean Squared Error:', np.sqrt(metrics.mean_squared_error(y_test, predicted)))\n",
    "print('R-squared :', metrics.r2_score(y_test, predicted))"
   ]
  },
  {
   "cell_type": "code",
   "execution_count": 14,
   "id": "b13ae0a8",
   "metadata": {
    "execution": {
     "iopub.execute_input": "2021-12-28T05:11:45.768956Z",
     "iopub.status.busy": "2021-12-28T05:11:45.766406Z",
     "iopub.status.idle": "2021-12-28T05:11:45.771679Z",
     "shell.execute_reply": "2021-12-28T05:11:45.771068Z",
     "shell.execute_reply.started": "2021-12-28T05:10:31.963144Z"
    },
    "papermill": {
     "duration": 0.021267,
     "end_time": "2021-12-28T05:11:45.771835",
     "exception": false,
     "start_time": "2021-12-28T05:11:45.750568",
     "status": "completed"
    },
    "tags": []
   },
   "outputs": [],
   "source": [
    "# Recover the original prices instead of the scaled version\n",
    "predicted_prices = y_test_scaler.inverse_transform(predicted.reshape(-1, 1))\n",
    "real_prices = y_test_scaler.inverse_transform(y_test.reshape(-1, 1))"
   ]
  },
  {
   "cell_type": "code",
   "execution_count": 15,
   "id": "0c8682d1",
   "metadata": {
    "execution": {
     "iopub.execute_input": "2021-12-28T05:11:45.811650Z",
     "iopub.status.busy": "2021-12-28T05:11:45.810743Z",
     "iopub.status.idle": "2021-12-28T05:11:45.815145Z",
     "shell.execute_reply": "2021-12-28T05:11:45.814415Z",
     "shell.execute_reply.started": "2021-12-28T05:10:31.973203Z"
    },
    "papermill": {
     "duration": 0.029029,
     "end_time": "2021-12-28T05:11:45.815304",
     "exception": false,
     "start_time": "2021-12-28T05:11:45.786275",
     "status": "completed"
    },
    "tags": []
   },
   "outputs": [
    {
     "data": {
      "text/html": [
       "<div>\n",
       "<style scoped>\n",
       "    .dataframe tbody tr th:only-of-type {\n",
       "        vertical-align: middle;\n",
       "    }\n",
       "\n",
       "    .dataframe tbody tr th {\n",
       "        vertical-align: top;\n",
       "    }\n",
       "\n",
       "    .dataframe thead th {\n",
       "        text-align: right;\n",
       "    }\n",
       "</style>\n",
       "<table border=\"1\" class=\"dataframe\">\n",
       "  <thead>\n",
       "    <tr style=\"text-align: right;\">\n",
       "      <th></th>\n",
       "      <th>Real</th>\n",
       "      <th>Predicted</th>\n",
       "    </tr>\n",
       "    <tr>\n",
       "      <th>Date</th>\n",
       "      <th></th>\n",
       "      <th></th>\n",
       "    </tr>\n",
       "  </thead>\n",
       "  <tbody>\n",
       "    <tr>\n",
       "      <th>2018-07-27</th>\n",
       "      <td>46.39</td>\n",
       "      <td>47.278915</td>\n",
       "    </tr>\n",
       "    <tr>\n",
       "      <th>2018-07-30</th>\n",
       "      <td>46.13</td>\n",
       "      <td>45.850224</td>\n",
       "    </tr>\n",
       "    <tr>\n",
       "      <th>2018-07-31</th>\n",
       "      <td>46.22</td>\n",
       "      <td>46.335148</td>\n",
       "    </tr>\n",
       "    <tr>\n",
       "      <th>2018-08-01</th>\n",
       "      <td>48.95</td>\n",
       "      <td>45.902985</td>\n",
       "    </tr>\n",
       "    <tr>\n",
       "      <th>2018-08-02</th>\n",
       "      <td>50.38</td>\n",
       "      <td>48.946964</td>\n",
       "    </tr>\n",
       "  </tbody>\n",
       "</table>\n",
       "</div>"
      ],
      "text/plain": [
       "             Real  Predicted\n",
       "Date                        \n",
       "2018-07-27  46.39  47.278915\n",
       "2018-07-30  46.13  45.850224\n",
       "2018-07-31  46.22  46.335148\n",
       "2018-08-01  48.95  45.902985\n",
       "2018-08-02  50.38  48.946964"
      ]
     },
     "execution_count": 15,
     "metadata": {},
     "output_type": "execute_result"
    }
   ],
   "source": [
    "# Create a DataFrame of Real and Predicted values\n",
    "stocks = pd.DataFrame({\n",
    "    \"Real\": real_prices.ravel(),\n",
    "    \"Predicted\": predicted_prices.ravel()\n",
    "}, index = df.index[-len(real_prices): ]) \n",
    "stocks.head()"
   ]
  },
  {
   "cell_type": "code",
   "execution_count": 16,
   "id": "32548076",
   "metadata": {
    "execution": {
     "iopub.execute_input": "2021-12-28T05:11:45.850743Z",
     "iopub.status.busy": "2021-12-28T05:11:45.850070Z",
     "iopub.status.idle": "2021-12-28T05:11:46.198262Z",
     "shell.execute_reply": "2021-12-28T05:11:46.197765Z",
     "shell.execute_reply.started": "2021-12-28T05:10:31.990609Z"
    },
    "papermill": {
     "duration": 0.369462,
     "end_time": "2021-12-28T05:11:46.198424",
     "exception": false,
     "start_time": "2021-12-28T05:11:45.828962",
     "status": "completed"
    },
    "tags": []
   },
   "outputs": [
    {
     "data": {
      "image/png": "[encoded data removed]",
      "text/plain": [
       "<Figure size 432x288 with 1 Axes>"
      ]
     },
     "metadata": {
      "needs_background": "light"
     },
     "output_type": "display_data"
    }
   ],
   "source": [
    "# Plot the real vs predicted values as a line chart\n",
    "#stocks.hvplot(title = \"Real vs Predicted values of APPL\")\n",
    "plt.plot(real_prices, label = 'Real')\n",
    "plt.plot(predicted_prices, label = 'Predicted values of APPL')\n",
    "\n",
    "#plt.plot(predicted_stock_price, color = 'blue', label = 'Predicted Apple Stock Price')\n",
    "plt.title('Stock Prediction')\n",
    "plt.xlabel('Time')\n",
    "plt.ylabel('Apple Stock Price')\n",
    "plt.legend()\n",
    "plt.show()"
   ]
  }
 ],
 "metadata": {
  "kernelspec": {
   "display_name": "Python 3",
   "language": "python",
   "name": "python3"
  },
  "language_info": {
   "codemirror_mode": {
    "name": "ipython",
    "version": 3
   },
   "file_extension": ".py",
   "mimetype": "text/x-python",
   "name": "python",
   "nbconvert_exporter": "python",
   "pygments_lexer": "ipython3",
   "version": "3.7.12"
  },
  "papermill": {
   "default_parameters": {},
   "duration": 19.135045,
   "end_time": "2021-12-28T05:11:46.923516",
   "environment_variables": {},
   "exception": null,
   "input_path": "__notebook__.ipynb",
   "output_path": "__notebook__.ipynb",
   "parameters": {},
   "start_time": "2021-12-28T05:11:27.788471",
   "version": "2.3.3"
  }
 },
 "nbformat": 4,
 "nbformat_minor": 5
}
