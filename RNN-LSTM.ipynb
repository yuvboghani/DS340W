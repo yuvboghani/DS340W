{
  "cells": [
    {
      "cell_type": "markdown",
      "metadata": {},
      "source": [
        "---\n",
        "# YAML data for Mercury App\n",
        "title: Prediction using RNN-LSTM\n",
        "description: Stock Market Prediction using RNN-LSTM method \n",
        "show-code: True\n",
        "author: Rajapriya R\n",
        "show-prompt: True\n",
        "---"
      ]
    },
    {
      "cell_type": "code",
      "execution_count": 56,
      "metadata": {
        "id": "I1Bgfb5OsoVV"
      },
      "outputs": [],
      "source": [
        "# Done by Rajapriya R (2019506071)\n",
        "\n",
        "import pandas as pd\n",
        "import matplotlib.pyplot as plt\n",
        "import numpy as np\n",
        "import datetime as dt"
      ]
    },
    {
      "cell_type": "code",
      "execution_count": 57,
      "metadata": {
        "colab": {
          "base_uri": "https://localhost:8080/",
          "height": 237
        },
        "id": "V9rLVp6Cs1R6",
        "outputId": "b7339ba9-bda9-40e3-f649-94aa810225b7"
      },
      "outputs": [
        {
          "data": {
            "text/html": [
              "\n",
              "  <div id=\"df-53c27243-102f-4774-927f-3e3ba439b641\">\n",
              "    <div class=\"colab-df-container\">\n",
              "      <div>\n",
              "<style scoped>\n",
              "    .dataframe tbody tr th:only-of-type {\n",
              "        vertical-align: middle;\n",
              "    }\n",
              "\n",
              "    .dataframe tbody tr th {\n",
              "        vertical-align: top;\n",
              "    }\n",
              "\n",
              "    .dataframe thead th {\n",
              "        text-align: right;\n",
              "    }\n",
              "</style>\n",
              "<table border=\"1\" class=\"dataframe\">\n",
              "  <thead>\n",
              "    <tr style=\"text-align: right;\">\n",
              "      <th></th>\n",
              "      <th>Unnamed: 0</th>\n",
              "      <th>open</th>\n",
              "      <th>high</th>\n",
              "      <th>low</th>\n",
              "      <th>close</th>\n",
              "      <th>adjusted close</th>\n",
              "      <th>volume</th>\n",
              "      <th>dividend amount</th>\n",
              "      <th>split cf</th>\n",
              "    </tr>\n",
              "    <tr>\n",
              "      <th>date</th>\n",
              "      <th></th>\n",
              "      <th></th>\n",
              "      <th></th>\n",
              "      <th></th>\n",
              "      <th></th>\n",
              "      <th></th>\n",
              "      <th></th>\n",
              "      <th></th>\n",
              "      <th></th>\n",
              "    </tr>\n",
              "  </thead>\n",
              "  <tbody>\n",
              "    <tr>\n",
              "      <th>2021-11-26</th>\n",
              "      <td>0</td>\n",
              "      <td>115.00</td>\n",
              "      <td>116.335</td>\n",
              "      <td>114.56</td>\n",
              "      <td>115.81</td>\n",
              "      <td>115.81</td>\n",
              "      <td>3322012</td>\n",
              "      <td>0.0</td>\n",
              "      <td>1.0</td>\n",
              "    </tr>\n",
              "    <tr>\n",
              "      <th>2021-11-24</th>\n",
              "      <td>1</td>\n",
              "      <td>116.16</td>\n",
              "      <td>117.270</td>\n",
              "      <td>116.08</td>\n",
              "      <td>116.73</td>\n",
              "      <td>116.73</td>\n",
              "      <td>3220802</td>\n",
              "      <td>0.0</td>\n",
              "      <td>1.0</td>\n",
              "    </tr>\n",
              "    <tr>\n",
              "      <th>2021-11-23</th>\n",
              "      <td>2</td>\n",
              "      <td>116.79</td>\n",
              "      <td>117.940</td>\n",
              "      <td>116.04</td>\n",
              "      <td>116.79</td>\n",
              "      <td>116.79</td>\n",
              "      <td>4914995</td>\n",
              "      <td>0.0</td>\n",
              "      <td>1.0</td>\n",
              "    </tr>\n",
              "    <tr>\n",
              "      <th>2021-11-22</th>\n",
              "      <td>3</td>\n",
              "      <td>116.00</td>\n",
              "      <td>118.810</td>\n",
              "      <td>115.19</td>\n",
              "      <td>116.47</td>\n",
              "      <td>116.47</td>\n",
              "      <td>6417218</td>\n",
              "      <td>0.0</td>\n",
              "      <td>1.0</td>\n",
              "    </tr>\n",
              "    <tr>\n",
              "      <th>2021-11-19</th>\n",
              "      <td>4</td>\n",
              "      <td>116.49</td>\n",
              "      <td>116.560</td>\n",
              "      <td>115.27</td>\n",
              "      <td>116.05</td>\n",
              "      <td>116.05</td>\n",
              "      <td>5384548</td>\n",
              "      <td>0.0</td>\n",
              "      <td>1.0</td>\n",
              "    </tr>\n",
              "  </tbody>\n",
              "</table>\n",
              "</div>\n",
              "      <button class=\"colab-df-convert\" onclick=\"convertToInteractive('df-53c27243-102f-4774-927f-3e3ba439b641')\"\n",
              "              title=\"Convert this dataframe to an interactive table.\"\n",
              "              style=\"display:none;\">\n",
              "        \n",
              "  <svg xmlns=\"http://www.w3.org/2000/svg\" height=\"24px\"viewBox=\"0 0 24 24\"\n",
              "       width=\"24px\">\n",
              "    <path d=\"M0 0h24v24H0V0z\" fill=\"none\"/>\n",
              "    <path d=\"M18.56 5.44l.94 2.06.94-2.06 2.06-.94-2.06-.94-.94-2.06-.94 2.06-2.06.94zm-11 1L8.5 8.5l.94-2.06 2.06-.94-2.06-.94L8.5 2.5l-.94 2.06-2.06.94zm10 10l.94 2.06.94-2.06 2.06-.94-2.06-.94-.94-2.06-.94 2.06-2.06.94z\"/><path d=\"M17.41 7.96l-1.37-1.37c-.4-.4-.92-.59-1.43-.59-.52 0-1.04.2-1.43.59L10.3 9.45l-7.72 7.72c-.78.78-.78 2.05 0 2.83L4 21.41c.39.39.9.59 1.41.59.51 0 1.02-.2 1.41-.59l7.78-7.78 2.81-2.81c.8-.78.8-2.07 0-2.86zM5.41 20L4 18.59l7.72-7.72 1.47 1.35L5.41 20z\"/>\n",
              "  </svg>\n",
              "      </button>\n",
              "      \n",
              "  <style>\n",
              "    .colab-df-container {\n",
              "      display:flex;\n",
              "      flex-wrap:wrap;\n",
              "      gap: 12px;\n",
              "    }\n",
              "\n",
              "    .colab-df-convert {\n",
              "      background-color: #E8F0FE;\n",
              "      border: none;\n",
              "      border-radius: 50%;\n",
              "      cursor: pointer;\n",
              "      display: none;\n",
              "      fill: #1967D2;\n",
              "      height: 32px;\n",
              "      padding: 0 0 0 0;\n",
              "      width: 32px;\n",
              "    }\n",
              "\n",
              "    .colab-df-convert:hover {\n",
              "      background-color: #E2EBFA;\n",
              "      box-shadow: 0px 1px 2px rgba(60, 64, 67, 0.3), 0px 1px 3px 1px rgba(60, 64, 67, 0.15);\n",
              "      fill: #174EA6;\n",
              "    }\n",
              "\n",
              "    [theme=dark] .colab-df-convert {\n",
              "      background-color: #3B4455;\n",
              "      fill: #D2E3FC;\n",
              "    }\n",
              "\n",
              "    [theme=dark] .colab-df-convert:hover {\n",
              "      background-color: #434B5C;\n",
              "      box-shadow: 0px 1px 3px 1px rgba(0, 0, 0, 0.15);\n",
              "      filter: drop-shadow(0px 1px 2px rgba(0, 0, 0, 0.3));\n",
              "      fill: #FFFFFF;\n",
              "    }\n",
              "  </style>\n",
              "\n",
              "      <script>\n",
              "        const buttonEl =\n",
              "          document.querySelector('#df-53c27243-102f-4774-927f-3e3ba439b641 button.colab-df-convert');\n",
              "        buttonEl.style.display =\n",
              "          google.colab.kernel.accessAllowed ? 'block' : 'none';\n",
              "\n",
              "        async function convertToInteractive(key) {\n",
              "          const element = document.querySelector('#df-53c27243-102f-4774-927f-3e3ba439b641');\n",
              "          const dataTable =\n",
              "            await google.colab.kernel.invokeFunction('convertToInteractive',\n",
              "                                                     [key], {});\n",
              "          if (!dataTable) return;\n",
              "\n",
              "          const docLinkHtml = 'Like what you see? Visit the ' +\n",
              "            '<a target=\"_blank\" href=https://colab.research.google.com/notebooks/data_table.ipynb>data table notebook</a>'\n",
              "            + ' to learn more about interactive tables.';\n",
              "          element.innerHTML = '';\n",
              "          dataTable['output_type'] = 'display_data';\n",
              "          await google.colab.output.renderOutput(dataTable, element);\n",
              "          const docLink = document.createElement('div');\n",
              "          docLink.innerHTML = docLinkHtml;\n",
              "          element.appendChild(docLink);\n",
              "        }\n",
              "      </script>\n",
              "    </div>\n",
              "  </div>\n",
              "  "
            ],
            "text/plain": [
              "            Unnamed: 0    open     high  ...   volume  dividend amount  split cf\n",
              "date                                     ...                                    \n",
              "2021-11-26           0  115.00  116.335  ...  3322012              0.0       1.0\n",
              "2021-11-24           1  116.16  117.270  ...  3220802              0.0       1.0\n",
              "2021-11-23           2  116.79  117.940  ...  4914995              0.0       1.0\n",
              "2021-11-22           3  116.00  118.810  ...  6417218              0.0       1.0\n",
              "2021-11-19           4  116.49  116.560  ...  5384548              0.0       1.0\n",
              "\n",
              "[5 rows x 9 columns]"
            ]
          },
          "execution_count": 57,
          "metadata": {},
          "output_type": "execute_result"
        }
      ],
      "source": [
        "data=pd.read_csv('/content/data.csv',index_col='date',parse_dates=True)\n",
        "data.head(5)"
      ]
    },
    {
      "cell_type": "code",
      "execution_count": 58,
      "metadata": {
        "colab": {
          "base_uri": "https://localhost:8080/",
          "height": 237
        },
        "id": "6B7M4y8stHsC",
        "outputId": "2c6f0060-6305-42b4-a355-6cd20c56f798"
      },
      "outputs": [
        {
          "data": {
            "text/html": [
              "\n",
              "  <div id=\"df-a1fbc2c0-8694-4d99-b877-66908ca925fd\">\n",
              "    <div class=\"colab-df-container\">\n",
              "      <div>\n",
              "<style scoped>\n",
              "    .dataframe tbody tr th:only-of-type {\n",
              "        vertical-align: middle;\n",
              "    }\n",
              "\n",
              "    .dataframe tbody tr th {\n",
              "        vertical-align: top;\n",
              "    }\n",
              "\n",
              "    .dataframe thead th {\n",
              "        text-align: right;\n",
              "    }\n",
              "</style>\n",
              "<table border=\"1\" class=\"dataframe\">\n",
              "  <thead>\n",
              "    <tr style=\"text-align: right;\">\n",
              "      <th></th>\n",
              "      <th>Unnamed: 0</th>\n",
              "      <th>open</th>\n",
              "      <th>high</th>\n",
              "      <th>low</th>\n",
              "      <th>close</th>\n",
              "      <th>adjusted close</th>\n",
              "      <th>volume</th>\n",
              "      <th>dividend amount</th>\n",
              "      <th>split cf</th>\n",
              "    </tr>\n",
              "    <tr>\n",
              "      <th>date</th>\n",
              "      <th></th>\n",
              "      <th></th>\n",
              "      <th></th>\n",
              "      <th></th>\n",
              "      <th></th>\n",
              "      <th></th>\n",
              "      <th></th>\n",
              "      <th></th>\n",
              "      <th></th>\n",
              "    </tr>\n",
              "  </thead>\n",
              "  <tbody>\n",
              "    <tr>\n",
              "      <th>1999-11-05</th>\n",
              "      <td>5550</td>\n",
              "      <td>92.75</td>\n",
              "      <td>92.94</td>\n",
              "      <td>90.19</td>\n",
              "      <td>90.25</td>\n",
              "      <td>52.226608</td>\n",
              "      <td>13737600</td>\n",
              "      <td>0.0</td>\n",
              "      <td>1.0</td>\n",
              "    </tr>\n",
              "    <tr>\n",
              "      <th>1999-11-04</th>\n",
              "      <td>5551</td>\n",
              "      <td>94.44</td>\n",
              "      <td>94.44</td>\n",
              "      <td>90.00</td>\n",
              "      <td>91.56</td>\n",
              "      <td>52.984689</td>\n",
              "      <td>16697600</td>\n",
              "      <td>0.0</td>\n",
              "      <td>1.0</td>\n",
              "    </tr>\n",
              "    <tr>\n",
              "      <th>1999-11-03</th>\n",
              "      <td>5552</td>\n",
              "      <td>95.87</td>\n",
              "      <td>95.94</td>\n",
              "      <td>93.50</td>\n",
              "      <td>94.37</td>\n",
              "      <td>54.610803</td>\n",
              "      <td>10369100</td>\n",
              "      <td>0.0</td>\n",
              "      <td>1.0</td>\n",
              "    </tr>\n",
              "    <tr>\n",
              "      <th>1999-11-02</th>\n",
              "      <td>5553</td>\n",
              "      <td>96.75</td>\n",
              "      <td>96.81</td>\n",
              "      <td>93.69</td>\n",
              "      <td>94.81</td>\n",
              "      <td>54.865426</td>\n",
              "      <td>11105400</td>\n",
              "      <td>0.0</td>\n",
              "      <td>1.0</td>\n",
              "    </tr>\n",
              "    <tr>\n",
              "      <th>1999-11-01</th>\n",
              "      <td>5554</td>\n",
              "      <td>98.50</td>\n",
              "      <td>98.81</td>\n",
              "      <td>96.37</td>\n",
              "      <td>96.75</td>\n",
              "      <td>55.988081</td>\n",
              "      <td>9551800</td>\n",
              "      <td>0.0</td>\n",
              "      <td>1.0</td>\n",
              "    </tr>\n",
              "  </tbody>\n",
              "</table>\n",
              "</div>\n",
              "      <button class=\"colab-df-convert\" onclick=\"convertToInteractive('df-a1fbc2c0-8694-4d99-b877-66908ca925fd')\"\n",
              "              title=\"Convert this dataframe to an interactive table.\"\n",
              "              style=\"display:none;\">\n",
              "        \n",
              "  <svg xmlns=\"http://www.w3.org/2000/svg\" height=\"24px\"viewBox=\"0 0 24 24\"\n",
              "       width=\"24px\">\n",
              "    <path d=\"M0 0h24v24H0V0z\" fill=\"none\"/>\n",
              "    <path d=\"M18.56 5.44l.94 2.06.94-2.06 2.06-.94-2.06-.94-.94-2.06-.94 2.06-2.06.94zm-11 1L8.5 8.5l.94-2.06 2.06-.94-2.06-.94L8.5 2.5l-.94 2.06-2.06.94zm10 10l.94 2.06.94-2.06 2.06-.94-2.06-.94-.94-2.06-.94 2.06-2.06.94z\"/><path d=\"M17.41 7.96l-1.37-1.37c-.4-.4-.92-.59-1.43-.59-.52 0-1.04.2-1.43.59L10.3 9.45l-7.72 7.72c-.78.78-.78 2.05 0 2.83L4 21.41c.39.39.9.59 1.41.59.51 0 1.02-.2 1.41-.59l7.78-7.78 2.81-2.81c.8-.78.8-2.07 0-2.86zM5.41 20L4 18.59l7.72-7.72 1.47 1.35L5.41 20z\"/>\n",
              "  </svg>\n",
              "      </button>\n",
              "      \n",
              "  <style>\n",
              "    .colab-df-container {\n",
              "      display:flex;\n",
              "      flex-wrap:wrap;\n",
              "      gap: 12px;\n",
              "    }\n",
              "\n",
              "    .colab-df-convert {\n",
              "      background-color: #E8F0FE;\n",
              "      border: none;\n",
              "      border-radius: 50%;\n",
              "      cursor: pointer;\n",
              "      display: none;\n",
              "      fill: #1967D2;\n",
              "      height: 32px;\n",
              "      padding: 0 0 0 0;\n",
              "      width: 32px;\n",
              "    }\n",
              "\n",
              "    .colab-df-convert:hover {\n",
              "      background-color: #E2EBFA;\n",
              "      box-shadow: 0px 1px 2px rgba(60, 64, 67, 0.3), 0px 1px 3px 1px rgba(60, 64, 67, 0.15);\n",
              "      fill: #174EA6;\n",
              "    }\n",
              "\n",
              "    [theme=dark] .colab-df-convert {\n",
              "      background-color: #3B4455;\n",
              "      fill: #D2E3FC;\n",
              "    }\n",
              "\n",
              "    [theme=dark] .colab-df-convert:hover {\n",
              "      background-color: #434B5C;\n",
              "      box-shadow: 0px 1px 3px 1px rgba(0, 0, 0, 0.15);\n",
              "      filter: drop-shadow(0px 1px 2px rgba(0, 0, 0, 0.3));\n",
              "      fill: #FFFFFF;\n",
              "    }\n",
              "  </style>\n",
              "\n",
              "      <script>\n",
              "        const buttonEl =\n",
              "          document.querySelector('#df-a1fbc2c0-8694-4d99-b877-66908ca925fd button.colab-df-convert');\n",
              "        buttonEl.style.display =\n",
              "          google.colab.kernel.accessAllowed ? 'block' : 'none';\n",
              "\n",
              "        async function convertToInteractive(key) {\n",
              "          const element = document.querySelector('#df-a1fbc2c0-8694-4d99-b877-66908ca925fd');\n",
              "          const dataTable =\n",
              "            await google.colab.kernel.invokeFunction('convertToInteractive',\n",
              "                                                     [key], {});\n",
              "          if (!dataTable) return;\n",
              "\n",
              "          const docLinkHtml = 'Like what you see? Visit the ' +\n",
              "            '<a target=\"_blank\" href=https://colab.research.google.com/notebooks/data_table.ipynb>data table notebook</a>'\n",
              "            + ' to learn more about interactive tables.';\n",
              "          element.innerHTML = '';\n",
              "          dataTable['output_type'] = 'display_data';\n",
              "          await google.colab.output.renderOutput(dataTable, element);\n",
              "          const docLink = document.createElement('div');\n",
              "          docLink.innerHTML = docLinkHtml;\n",
              "          element.appendChild(docLink);\n",
              "        }\n",
              "      </script>\n",
              "    </div>\n",
              "  </div>\n",
              "  "
            ],
            "text/plain": [
              "            Unnamed: 0   open   high  ...    volume  dividend amount  split cf\n",
              "date                                  ...                                     \n",
              "1999-11-05        5550  92.75  92.94  ...  13737600              0.0       1.0\n",
              "1999-11-04        5551  94.44  94.44  ...  16697600              0.0       1.0\n",
              "1999-11-03        5552  95.87  95.94  ...  10369100              0.0       1.0\n",
              "1999-11-02        5553  96.75  96.81  ...  11105400              0.0       1.0\n",
              "1999-11-01        5554  98.50  98.81  ...   9551800              0.0       1.0\n",
              "\n",
              "[5 rows x 9 columns]"
            ]
          },
          "execution_count": 58,
          "metadata": {},
          "output_type": "execute_result"
        }
      ],
      "source": [
        "data.tail(5)"
      ]
    },
    {
      "cell_type": "code",
      "execution_count": 59,
      "metadata": {
        "colab": {
          "base_uri": "https://localhost:8080/"
        },
        "id": "FBZehi5bQ6no",
        "outputId": "37c7cba3-1a3c-4e68-93eb-a39288a38442"
      },
      "outputs": [
        {
          "data": {
            "text/plain": [
              "Unnamed: 0         False\n",
              "open               False\n",
              "high               False\n",
              "low                False\n",
              "close              False\n",
              "adjusted close     False\n",
              "volume             False\n",
              "dividend amount    False\n",
              "split cf           False\n",
              "dtype: bool"
            ]
          },
          "execution_count": 59,
          "metadata": {},
          "output_type": "execute_result"
        }
      ],
      "source": [
        "data.isna().any()"
      ]
    },
    {
      "cell_type": "code",
      "execution_count": 60,
      "metadata": {
        "colab": {
          "base_uri": "https://localhost:8080/"
        },
        "id": "e2dBPHCetLx1",
        "outputId": "dadc9f64-8864-4676-e7b2-24d96bb600a3"
      },
      "outputs": [
        {
          "name": "stdout",
          "output_type": "stream",
          "text": [
            "<class 'pandas.core.frame.DataFrame'>\n",
            "DatetimeIndex: 5555 entries, 2021-11-26 to 1999-11-01\n",
            "Data columns (total 9 columns):\n",
            " #   Column           Non-Null Count  Dtype  \n",
            "---  ------           --------------  -----  \n",
            " 0   Unnamed: 0       5555 non-null   int64  \n",
            " 1   open             5555 non-null   float64\n",
            " 2   high             5555 non-null   float64\n",
            " 3   low              5555 non-null   float64\n",
            " 4   close            5555 non-null   float64\n",
            " 5   adjusted close   5555 non-null   float64\n",
            " 6   volume           5555 non-null   int64  \n",
            " 7   dividend amount  5555 non-null   float64\n",
            " 8   split cf         5555 non-null   float64\n",
            "dtypes: float64(7), int64(2)\n",
            "memory usage: 434.0 KB\n"
          ]
        }
      ],
      "source": [
        "data.info()"
      ]
    },
    {
      "cell_type": "code",
      "execution_count": 61,
      "metadata": {
        "colab": {
          "base_uri": "https://localhost:8080/"
        },
        "id": "9fSp5e7Pubmc",
        "outputId": "e55651b1-2a9d-43c3-e3b3-66bb68b244e4"
      },
      "outputs": [
        {
          "data": {
            "text/plain": [
              "<bound method NDFrame.describe of             Unnamed: 0    open     high  ...    volume  dividend amount  split cf\n",
              "date                                     ...                                     \n",
              "2021-11-26           0  115.00  116.335  ...   3322012              0.0       1.0\n",
              "2021-11-24           1  116.16  117.270  ...   3220802              0.0       1.0\n",
              "2021-11-23           2  116.79  117.940  ...   4914995              0.0       1.0\n",
              "2021-11-22           3  116.00  118.810  ...   6417218              0.0       1.0\n",
              "2021-11-19           4  116.49  116.560  ...   5384548              0.0       1.0\n",
              "...                ...     ...      ...  ...       ...              ...       ...\n",
              "1999-11-05        5550   92.75   92.940  ...  13737600              0.0       1.0\n",
              "1999-11-04        5551   94.44   94.440  ...  16697600              0.0       1.0\n",
              "1999-11-03        5552   95.87   95.940  ...  10369100              0.0       1.0\n",
              "1999-11-02        5553   96.75   96.810  ...  11105400              0.0       1.0\n",
              "1999-11-01        5554   98.50   98.810  ...   9551800              0.0       1.0\n",
              "\n",
              "[5555 rows x 9 columns]>"
            ]
          },
          "execution_count": 61,
          "metadata": {},
          "output_type": "execute_result"
        }
      ],
      "source": [
        "data.describe"
      ]
    },
    {
      "cell_type": "code",
      "execution_count": 62,
      "metadata": {
        "colab": {
          "base_uri": "https://localhost:8080/"
        },
        "id": "acZb6C9surz8",
        "outputId": "855452c5-d4da-4d2d-89fd-64f92aaab3a9"
      },
      "outputs": [
        {
          "data": {
            "text/plain": [
              "Unnamed: 0         5555\n",
              "open               4083\n",
              "high               4267\n",
              "low                4306\n",
              "close              4351\n",
              "adjusted close     5389\n",
              "volume             5460\n",
              "dividend amount      24\n",
              "split cf              2\n",
              "dtype: int64"
            ]
          },
          "execution_count": 62,
          "metadata": {},
          "output_type": "execute_result"
        }
      ],
      "source": [
        "data.nunique()"
      ]
    },
    {
      "cell_type": "code",
      "execution_count": 63,
      "metadata": {
        "colab": {
          "base_uri": "https://localhost:8080/",
          "height": 385
        },
        "id": "ayEKKCS-MHGE",
        "outputId": "eb67883f-0318-4cd2-bdfc-eaa5b0d90f85"
      },
      "outputs": [
        {
          "data": {
            "text/plain": [
              "<matplotlib.axes._subplots.AxesSubplot at 0x7f3db7a1d110>"
            ]
          },
          "execution_count": 63,
          "metadata": {},
          "output_type": "execute_result"
        },
        {
          "data": {
            "image/png": "[encoded data removed]",
            "text/plain": [
              "<Figure size 864x432 with 1 Axes>"
            ]
          },
          "metadata": {
            "needs_background": "light"
          },
          "output_type": "display_data"
        }
      ],
      "source": [
        "data['open'].plot(figsize=(12,6))"
      ]
    },
    {
      "cell_type": "code",
      "execution_count": 64,
      "metadata": {
        "colab": {
          "base_uri": "https://localhost:8080/"
        },
        "id": "vSsRecAvT0nA",
        "outputId": "74393d15-9ff5-42b2-d7dc-35646d9e9298"
      },
      "outputs": [
        {
          "data": {
            "text/plain": [
              "Unnamed: 0           int64\n",
              "open               float64\n",
              "high               float64\n",
              "low                float64\n",
              "close              float64\n",
              "adjusted close     float64\n",
              "volume               int64\n",
              "dividend amount    float64\n",
              "split cf           float64\n",
              "dtype: object"
            ]
          },
          "execution_count": 64,
          "metadata": {},
          "output_type": "execute_result"
        }
      ],
      "source": [
        "data.dtypes\n"
      ]
    },
    {
      "cell_type": "code",
      "execution_count": 65,
      "metadata": {
        "colab": {
          "base_uri": "https://localhost:8080/",
          "height": 1000
        },
        "id": "1kUgJMEvURv0",
        "outputId": "3b3c70de-031a-4b7a-8e84-7430f808f0a9"
      },
      "outputs": [
        {
          "data": {
            "text/html": [
              "\n",
              "  <div id=\"df-2baf42aa-2764-4fe6-8e5e-f41578545733\">\n",
              "    <div class=\"colab-df-container\">\n",
              "      <div>\n",
              "<style scoped>\n",
              "    .dataframe tbody tr th:only-of-type {\n",
              "        vertical-align: middle;\n",
              "    }\n",
              "\n",
              "    .dataframe tbody tr th {\n",
              "        vertical-align: top;\n",
              "    }\n",
              "\n",
              "    .dataframe thead th {\n",
              "        text-align: right;\n",
              "    }\n",
              "</style>\n",
              "<table border=\"1\" class=\"dataframe\">\n",
              "  <thead>\n",
              "    <tr style=\"text-align: right;\">\n",
              "      <th></th>\n",
              "      <th>Unnamed: 0</th>\n",
              "      <th>open</th>\n",
              "      <th>high</th>\n",
              "      <th>low</th>\n",
              "      <th>close</th>\n",
              "      <th>adjusted close</th>\n",
              "      <th>volume</th>\n",
              "      <th>dividend amount</th>\n",
              "      <th>split cf</th>\n",
              "    </tr>\n",
              "    <tr>\n",
              "      <th>date</th>\n",
              "      <th></th>\n",
              "      <th></th>\n",
              "      <th></th>\n",
              "      <th></th>\n",
              "      <th></th>\n",
              "      <th></th>\n",
              "      <th></th>\n",
              "      <th></th>\n",
              "      <th></th>\n",
              "    </tr>\n",
              "  </thead>\n",
              "  <tbody>\n",
              "    <tr>\n",
              "      <th>2021-11-26</th>\n",
              "      <td>NaN</td>\n",
              "      <td>NaN</td>\n",
              "      <td>NaN</td>\n",
              "      <td>NaN</td>\n",
              "      <td>NaN</td>\n",
              "      <td>NaN</td>\n",
              "      <td>NaN</td>\n",
              "      <td>NaN</td>\n",
              "      <td>NaN</td>\n",
              "    </tr>\n",
              "    <tr>\n",
              "      <th>2021-11-24</th>\n",
              "      <td>NaN</td>\n",
              "      <td>NaN</td>\n",
              "      <td>NaN</td>\n",
              "      <td>NaN</td>\n",
              "      <td>NaN</td>\n",
              "      <td>NaN</td>\n",
              "      <td>NaN</td>\n",
              "      <td>NaN</td>\n",
              "      <td>NaN</td>\n",
              "    </tr>\n",
              "    <tr>\n",
              "      <th>2021-11-23</th>\n",
              "      <td>NaN</td>\n",
              "      <td>NaN</td>\n",
              "      <td>NaN</td>\n",
              "      <td>NaN</td>\n",
              "      <td>NaN</td>\n",
              "      <td>NaN</td>\n",
              "      <td>NaN</td>\n",
              "      <td>NaN</td>\n",
              "      <td>NaN</td>\n",
              "    </tr>\n",
              "    <tr>\n",
              "      <th>2021-11-22</th>\n",
              "      <td>NaN</td>\n",
              "      <td>NaN</td>\n",
              "      <td>NaN</td>\n",
              "      <td>NaN</td>\n",
              "      <td>NaN</td>\n",
              "      <td>NaN</td>\n",
              "      <td>NaN</td>\n",
              "      <td>NaN</td>\n",
              "      <td>NaN</td>\n",
              "    </tr>\n",
              "    <tr>\n",
              "      <th>2021-11-19</th>\n",
              "      <td>NaN</td>\n",
              "      <td>NaN</td>\n",
              "      <td>NaN</td>\n",
              "      <td>NaN</td>\n",
              "      <td>NaN</td>\n",
              "      <td>NaN</td>\n",
              "      <td>NaN</td>\n",
              "      <td>NaN</td>\n",
              "      <td>NaN</td>\n",
              "    </tr>\n",
              "    <tr>\n",
              "      <th>2021-11-18</th>\n",
              "      <td>NaN</td>\n",
              "      <td>NaN</td>\n",
              "      <td>NaN</td>\n",
              "      <td>NaN</td>\n",
              "      <td>NaN</td>\n",
              "      <td>NaN</td>\n",
              "      <td>NaN</td>\n",
              "      <td>NaN</td>\n",
              "      <td>NaN</td>\n",
              "    </tr>\n",
              "    <tr>\n",
              "      <th>2021-11-17</th>\n",
              "      <td>3.0</td>\n",
              "      <td>116.740000</td>\n",
              "      <td>117.800714</td>\n",
              "      <td>115.890000</td>\n",
              "      <td>116.652857</td>\n",
              "      <td>116.652857</td>\n",
              "      <td>4.621535e+06</td>\n",
              "      <td>0.000000</td>\n",
              "      <td>1.000000</td>\n",
              "    </tr>\n",
              "    <tr>\n",
              "      <th>2021-11-16</th>\n",
              "      <td>4.0</td>\n",
              "      <td>117.300000</td>\n",
              "      <td>118.310000</td>\n",
              "      <td>116.441429</td>\n",
              "      <td>117.031429</td>\n",
              "      <td>117.031429</td>\n",
              "      <td>4.825642e+06</td>\n",
              "      <td>0.000000</td>\n",
              "      <td>1.000000</td>\n",
              "    </tr>\n",
              "    <tr>\n",
              "      <th>2021-11-15</th>\n",
              "      <td>5.0</td>\n",
              "      <td>117.782857</td>\n",
              "      <td>118.722857</td>\n",
              "      <td>116.760000</td>\n",
              "      <td>117.337143</td>\n",
              "      <td>117.337143</td>\n",
              "      <td>5.086430e+06</td>\n",
              "      <td>0.000000</td>\n",
              "      <td>1.000000</td>\n",
              "    </tr>\n",
              "    <tr>\n",
              "      <th>2021-11-12</th>\n",
              "      <td>6.0</td>\n",
              "      <td>118.241429</td>\n",
              "      <td>119.108571</td>\n",
              "      <td>117.151429</td>\n",
              "      <td>117.647143</td>\n",
              "      <td>117.647143</td>\n",
              "      <td>5.152426e+06</td>\n",
              "      <td>0.000000</td>\n",
              "      <td>1.000000</td>\n",
              "    </tr>\n",
              "    <tr>\n",
              "      <th>2021-11-11</th>\n",
              "      <td>7.0</td>\n",
              "      <td>118.941429</td>\n",
              "      <td>119.534200</td>\n",
              "      <td>117.850000</td>\n",
              "      <td>118.190000</td>\n",
              "      <td>118.190000</td>\n",
              "      <td>4.899003e+06</td>\n",
              "      <td>0.000000</td>\n",
              "      <td>1.000000</td>\n",
              "    </tr>\n",
              "    <tr>\n",
              "      <th>2021-11-10</th>\n",
              "      <td>8.0</td>\n",
              "      <td>119.585714</td>\n",
              "      <td>120.372771</td>\n",
              "      <td>118.516000</td>\n",
              "      <td>118.785714</td>\n",
              "      <td>118.785714</td>\n",
              "      <td>5.025348e+06</td>\n",
              "      <td>0.000000</td>\n",
              "      <td>1.000000</td>\n",
              "    </tr>\n",
              "    <tr>\n",
              "      <th>2021-11-09</th>\n",
              "      <td>9.0</td>\n",
              "      <td>120.185714</td>\n",
              "      <td>121.021343</td>\n",
              "      <td>119.080286</td>\n",
              "      <td>119.384286</td>\n",
              "      <td>119.384286</td>\n",
              "      <td>5.332144e+06</td>\n",
              "      <td>0.234286</td>\n",
              "      <td>1.000000</td>\n",
              "    </tr>\n",
              "    <tr>\n",
              "      <th>2021-11-08</th>\n",
              "      <td>10.0</td>\n",
              "      <td>120.986429</td>\n",
              "      <td>121.799914</td>\n",
              "      <td>119.901714</td>\n",
              "      <td>120.310000</td>\n",
              "      <td>120.071793</td>\n",
              "      <td>5.558142e+06</td>\n",
              "      <td>0.234286</td>\n",
              "      <td>1.000000</td>\n",
              "    </tr>\n",
              "    <tr>\n",
              "      <th>2021-11-05</th>\n",
              "      <td>11.0</td>\n",
              "      <td>121.345000</td>\n",
              "      <td>122.352771</td>\n",
              "      <td>120.331714</td>\n",
              "      <td>121.045714</td>\n",
              "      <td>120.571080</td>\n",
              "      <td>5.849530e+06</td>\n",
              "      <td>0.234286</td>\n",
              "      <td>1.000000</td>\n",
              "    </tr>\n",
              "    <tr>\n",
              "      <th>2021-11-04</th>\n",
              "      <td>12.0</td>\n",
              "      <td>121.846429</td>\n",
              "      <td>122.807057</td>\n",
              "      <td>120.558857</td>\n",
              "      <td>121.328571</td>\n",
              "      <td>120.622788</td>\n",
              "      <td>6.158447e+06</td>\n",
              "      <td>0.234286</td>\n",
              "      <td>1.006571</td>\n",
              "    </tr>\n",
              "    <tr>\n",
              "      <th>2021-11-03</th>\n",
              "      <td>13.0</td>\n",
              "      <td>122.736429</td>\n",
              "      <td>123.757057</td>\n",
              "      <td>121.544571</td>\n",
              "      <td>122.495714</td>\n",
              "      <td>120.758777</td>\n",
              "      <td>6.164795e+06</td>\n",
              "      <td>0.234286</td>\n",
              "      <td>1.006571</td>\n",
              "    </tr>\n",
              "    <tr>\n",
              "      <th>2021-11-02</th>\n",
              "      <td>14.0</td>\n",
              "      <td>123.507857</td>\n",
              "      <td>124.525714</td>\n",
              "      <td>122.234571</td>\n",
              "      <td>123.340000</td>\n",
              "      <td>120.579615</td>\n",
              "      <td>6.143815e+06</td>\n",
              "      <td>0.234286</td>\n",
              "      <td>1.006571</td>\n",
              "    </tr>\n",
              "    <tr>\n",
              "      <th>2021-11-01</th>\n",
              "      <td>15.0</td>\n",
              "      <td>124.086429</td>\n",
              "      <td>125.080000</td>\n",
              "      <td>122.792500</td>\n",
              "      <td>124.205714</td>\n",
              "      <td>120.421071</td>\n",
              "      <td>6.087501e+06</td>\n",
              "      <td>0.234286</td>\n",
              "      <td>1.006571</td>\n",
              "    </tr>\n",
              "    <tr>\n",
              "      <th>2021-10-29</th>\n",
              "      <td>16.0</td>\n",
              "      <td>124.496429</td>\n",
              "      <td>125.568571</td>\n",
              "      <td>123.456786</td>\n",
              "      <td>124.812857</td>\n",
              "      <td>120.013526</td>\n",
              "      <td>5.904835e+06</td>\n",
              "      <td>0.000000</td>\n",
              "      <td>1.006571</td>\n",
              "    </tr>\n",
              "    <tr>\n",
              "      <th>2021-10-28</th>\n",
              "      <td>17.0</td>\n",
              "      <td>124.665714</td>\n",
              "      <td>125.787143</td>\n",
              "      <td>123.612500</td>\n",
              "      <td>124.998571</td>\n",
              "      <td>119.416757</td>\n",
              "      <td>6.030225e+06</td>\n",
              "      <td>0.000000</td>\n",
              "      <td>1.006571</td>\n",
              "    </tr>\n",
              "    <tr>\n",
              "      <th>2021-10-27</th>\n",
              "      <td>18.0</td>\n",
              "      <td>125.524286</td>\n",
              "      <td>126.374286</td>\n",
              "      <td>124.123929</td>\n",
              "      <td>125.221429</td>\n",
              "      <td>118.860786</td>\n",
              "      <td>6.056361e+06</td>\n",
              "      <td>0.000000</td>\n",
              "      <td>1.006571</td>\n",
              "    </tr>\n",
              "    <tr>\n",
              "      <th>2021-10-26</th>\n",
              "      <td>19.0</td>\n",
              "      <td>126.162857</td>\n",
              "      <td>127.082857</td>\n",
              "      <td>125.103214</td>\n",
              "      <td>126.118571</td>\n",
              "      <td>118.957925</td>\n",
              "      <td>6.243809e+06</td>\n",
              "      <td>0.000000</td>\n",
              "      <td>1.000000</td>\n",
              "    </tr>\n",
              "    <tr>\n",
              "      <th>2021-10-25</th>\n",
              "      <td>20.0</td>\n",
              "      <td>126.348571</td>\n",
              "      <td>127.277143</td>\n",
              "      <td>125.283214</td>\n",
              "      <td>126.191429</td>\n",
              "      <td>119.026645</td>\n",
              "      <td>6.379899e+06</td>\n",
              "      <td>0.000000</td>\n",
              "      <td>1.000000</td>\n",
              "    </tr>\n",
              "    <tr>\n",
              "      <th>2021-10-22</th>\n",
              "      <td>21.0</td>\n",
              "      <td>126.598571</td>\n",
              "      <td>127.717143</td>\n",
              "      <td>125.526214</td>\n",
              "      <td>126.434286</td>\n",
              "      <td>119.255713</td>\n",
              "      <td>7.392157e+06</td>\n",
              "      <td>0.000000</td>\n",
              "      <td>1.000000</td>\n",
              "    </tr>\n",
              "  </tbody>\n",
              "</table>\n",
              "</div>\n",
              "      <button class=\"colab-df-convert\" onclick=\"convertToInteractive('df-2baf42aa-2764-4fe6-8e5e-f41578545733')\"\n",
              "              title=\"Convert this dataframe to an interactive table.\"\n",
              "              style=\"display:none;\">\n",
              "        \n",
              "  <svg xmlns=\"http://www.w3.org/2000/svg\" height=\"24px\"viewBox=\"0 0 24 24\"\n",
              "       width=\"24px\">\n",
              "    <path d=\"M0 0h24v24H0V0z\" fill=\"none\"/>\n",
              "    <path d=\"M18.56 5.44l.94 2.06.94-2.06 2.06-.94-2.06-.94-.94-2.06-.94 2.06-2.06.94zm-11 1L8.5 8.5l.94-2.06 2.06-.94-2.06-.94L8.5 2.5l-.94 2.06-2.06.94zm10 10l.94 2.06.94-2.06 2.06-.94-2.06-.94-.94-2.06-.94 2.06-2.06.94z\"/><path d=\"M17.41 7.96l-1.37-1.37c-.4-.4-.92-.59-1.43-.59-.52 0-1.04.2-1.43.59L10.3 9.45l-7.72 7.72c-.78.78-.78 2.05 0 2.83L4 21.41c.39.39.9.59 1.41.59.51 0 1.02-.2 1.41-.59l7.78-7.78 2.81-2.81c.8-.78.8-2.07 0-2.86zM5.41 20L4 18.59l7.72-7.72 1.47 1.35L5.41 20z\"/>\n",
              "  </svg>\n",
              "      </button>\n",
              "      \n",
              "  <style>\n",
              "    .colab-df-container {\n",
              "      display:flex;\n",
              "      flex-wrap:wrap;\n",
              "      gap: 12px;\n",
              "    }\n",
              "\n",
              "    .colab-df-convert {\n",
              "      background-color: #E8F0FE;\n",
              "      border: none;\n",
              "      border-radius: 50%;\n",
              "      cursor: pointer;\n",
              "      display: none;\n",
              "      fill: #1967D2;\n",
              "      height: 32px;\n",
              "      padding: 0 0 0 0;\n",
              "      width: 32px;\n",
              "    }\n",
              "\n",
              "    .colab-df-convert:hover {\n",
              "      background-color: #E2EBFA;\n",
              "      box-shadow: 0px 1px 2px rgba(60, 64, 67, 0.3), 0px 1px 3px 1px rgba(60, 64, 67, 0.15);\n",
              "      fill: #174EA6;\n",
              "    }\n",
              "\n",
              "    [theme=dark] .colab-df-convert {\n",
              "      background-color: #3B4455;\n",
              "      fill: #D2E3FC;\n",
              "    }\n",
              "\n",
              "    [theme=dark] .colab-df-convert:hover {\n",
              "      background-color: #434B5C;\n",
              "      box-shadow: 0px 1px 3px 1px rgba(0, 0, 0, 0.15);\n",
              "      filter: drop-shadow(0px 1px 2px rgba(0, 0, 0, 0.3));\n",
              "      fill: #FFFFFF;\n",
              "    }\n",
              "  </style>\n",
              "\n",
              "      <script>\n",
              "        const buttonEl =\n",
              "          document.querySelector('#df-2baf42aa-2764-4fe6-8e5e-f41578545733 button.colab-df-convert');\n",
              "        buttonEl.style.display =\n",
              "          google.colab.kernel.accessAllowed ? 'block' : 'none';\n",
              "\n",
              "        async function convertToInteractive(key) {\n",
              "          const element = document.querySelector('#df-2baf42aa-2764-4fe6-8e5e-f41578545733');\n",
              "          const dataTable =\n",
              "            await google.colab.kernel.invokeFunction('convertToInteractive',\n",
              "                                                     [key], {});\n",
              "          if (!dataTable) return;\n",
              "\n",
              "          const docLinkHtml = 'Like what you see? Visit the ' +\n",
              "            '<a target=\"_blank\" href=https://colab.research.google.com/notebooks/data_table.ipynb>data table notebook</a>'\n",
              "            + ' to learn more about interactive tables.';\n",
              "          element.innerHTML = '';\n",
              "          dataTable['output_type'] = 'display_data';\n",
              "          await google.colab.output.renderOutput(dataTable, element);\n",
              "          const docLink = document.createElement('div');\n",
              "          docLink.innerHTML = docLinkHtml;\n",
              "          element.appendChild(docLink);\n",
              "        }\n",
              "      </script>\n",
              "    </div>\n",
              "  </div>\n",
              "  "
            ],
            "text/plain": [
              "            Unnamed: 0        open  ...  dividend amount  split cf\n",
              "date                                ...                           \n",
              "2021-11-26         NaN         NaN  ...              NaN       NaN\n",
              "2021-11-24         NaN         NaN  ...              NaN       NaN\n",
              "2021-11-23         NaN         NaN  ...              NaN       NaN\n",
              "2021-11-22         NaN         NaN  ...              NaN       NaN\n",
              "2021-11-19         NaN         NaN  ...              NaN       NaN\n",
              "2021-11-18         NaN         NaN  ...              NaN       NaN\n",
              "2021-11-17         3.0  116.740000  ...         0.000000  1.000000\n",
              "2021-11-16         4.0  117.300000  ...         0.000000  1.000000\n",
              "2021-11-15         5.0  117.782857  ...         0.000000  1.000000\n",
              "2021-11-12         6.0  118.241429  ...         0.000000  1.000000\n",
              "2021-11-11         7.0  118.941429  ...         0.000000  1.000000\n",
              "2021-11-10         8.0  119.585714  ...         0.000000  1.000000\n",
              "2021-11-09         9.0  120.185714  ...         0.234286  1.000000\n",
              "2021-11-08        10.0  120.986429  ...         0.234286  1.000000\n",
              "2021-11-05        11.0  121.345000  ...         0.234286  1.000000\n",
              "2021-11-04        12.0  121.846429  ...         0.234286  1.006571\n",
              "2021-11-03        13.0  122.736429  ...         0.234286  1.006571\n",
              "2021-11-02        14.0  123.507857  ...         0.234286  1.006571\n",
              "2021-11-01        15.0  124.086429  ...         0.234286  1.006571\n",
              "2021-10-29        16.0  124.496429  ...         0.000000  1.006571\n",
              "2021-10-28        17.0  124.665714  ...         0.000000  1.006571\n",
              "2021-10-27        18.0  125.524286  ...         0.000000  1.006571\n",
              "2021-10-26        19.0  126.162857  ...         0.000000  1.000000\n",
              "2021-10-25        20.0  126.348571  ...         0.000000  1.000000\n",
              "2021-10-22        21.0  126.598571  ...         0.000000  1.000000\n",
              "\n",
              "[25 rows x 9 columns]"
            ]
          },
          "execution_count": 65,
          "metadata": {},
          "output_type": "execute_result"
        }
      ],
      "source": [
        "data.rolling(7).mean().head(25)"
      ]
    },
    {
      "cell_type": "code",
      "execution_count": 66,
      "metadata": {
        "colab": {
          "base_uri": "https://localhost:8080/",
          "height": 294
        },
        "id": "xyVXhgu4U5Oj",
        "outputId": "479c6fc9-5776-4bad-b47a-0002cb53b278"
      },
      "outputs": [
        {
          "data": {
            "text/plain": [
              "<matplotlib.axes._subplots.AxesSubplot at 0x7f3db22b7e90>"
            ]
          },
          "execution_count": 66,
          "metadata": {},
          "output_type": "execute_result"
        },
        {
          "data": {
            "image/png": "[encoded data removed]",
            "text/plain": [
              "<Figure size 1440x432 with 1 Axes>"
            ]
          },
          "metadata": {
            "needs_background": "light"
          },
          "output_type": "display_data"
        }
      ],
      "source": [
        "data['open'].plot(figsize=(20,6))\n",
        "data.rolling(window=30).mean()['close'].plot()"
      ]
    },
    {
      "cell_type": "code",
      "execution_count": 67,
      "metadata": {
        "colab": {
          "base_uri": "https://localhost:8080/",
          "height": 356
        },
        "id": "e-cRp2hYV1hY",
        "outputId": "073e2dad-73ed-417d-fbf7-8bbb4b7eb1bd"
      },
      "outputs": [
        {
          "data": {
            "text/plain": [
              "<matplotlib.axes._subplots.AxesSubplot at 0x7f3db219c190>"
            ]
          },
          "execution_count": 67,
          "metadata": {},
          "output_type": "execute_result"
        },
        {
          "data": {
            "image/png": "[encoded data removed]",
            "text/plain": [
              "<Figure size 1152x432 with 1 Axes>"
            ]
          },
          "metadata": {
            "needs_background": "light"
          },
          "output_type": "display_data"
        }
      ],
      "source": [
        "data['close'].expanding(min_periods=1).mean().plot(figsize=(16,6))"
      ]
    },
    {
      "cell_type": "code",
      "execution_count": 68,
      "metadata": {
        "id": "b4uh0QgBbpY_"
      },
      "outputs": [],
      "source": [
        "training_set=data['open']\n",
        "training_set=pd.DataFrame(training_set)"
      ]
    },
    {
      "cell_type": "code",
      "execution_count": 69,
      "metadata": {
        "colab": {
          "base_uri": "https://localhost:8080/"
        },
        "id": "50biZq-sedre",
        "outputId": "dce7baf5-82f6-48d0-9e41-ce85a9e85216"
      },
      "outputs": [
        {
          "data": {
            "text/plain": [
              "Unnamed: 0         False\n",
              "open               False\n",
              "high               False\n",
              "low                False\n",
              "close              False\n",
              "adjusted close     False\n",
              "volume             False\n",
              "dividend amount    False\n",
              "split cf           False\n",
              "dtype: bool"
            ]
          },
          "execution_count": 69,
          "metadata": {},
          "output_type": "execute_result"
        }
      ],
      "source": [
        "data.isna().any()"
      ]
    },
    {
      "cell_type": "code",
      "execution_count": 70,
      "metadata": {
        "id": "-wVe0ZQab7pE"
      },
      "outputs": [],
      "source": [
        "from sklearn.preprocessing import MinMaxScaler\n",
        "sc=MinMaxScaler(feature_range=(0,1))\n",
        "training_set_scaled=sc.fit_transform(training_set)"
      ]
    },
    {
      "cell_type": "code",
      "execution_count": 72,
      "metadata": {
        "id": "yAWyMdwMfmUp"
      },
      "outputs": [],
      "source": [
        "train_set = data.iloc[:1482, 1:2].values\n",
        "test_set = data.iloc[1482:, 1:2].values\n",
        "sc = MinMaxScaler(feature_range = (0, 1))\n",
        "training_set_scaled = sc.fit_transform(train_set)\n",
        "X_train = []\n",
        "y_train = []\n",
        "X_test = []\n",
        "y_test = []\n",
        "\n",
        "for i in range(60, 1482):\n",
        "    X_train.append(training_set_scaled[i-60:i, 0])\n",
        "    y_train.append(training_set_scaled[i, 0]) \n",
        "X_train, y_train = np.array(X_train), np.array(y_train)\n",
        "X_train = np.reshape(X_train, (X_train.shape[0], X_train.shape[1], 1))"
      ]
    },
    {
      "cell_type": "code",
      "execution_count": 73,
      "metadata": {
        "id": "RYKUZgacd2R_"
      },
      "outputs": [],
      "source": [
        "from keras.models import Sequential\n",
        "from keras.layers import Dense\n",
        "from keras.layers import LSTM\n",
        "from keras.layers import Dropout\n",
        "from keras.layers import Flatten\n",
        "from keras import layers\n",
        "\n"
      ]
    },
    {
      "cell_type": "code",
      "execution_count": 74,
      "metadata": {
        "id": "ZVnxDK5yeqex"
      },
      "outputs": [],
      "source": [
        "regressor=Sequential()"
      ]
    },
    {
      "cell_type": "code",
      "execution_count": 75,
      "metadata": {
        "id": "K03MEuD_gly2"
      },
      "outputs": [],
      "source": [
        "regressor = Sequential()\n",
        "regressor.add(LSTM(units = 50, return_sequences = True, input_shape = (X_train.shape[1], 1)))\n",
        "regressor.add(Dropout(0.2))\n",
        "regressor.add(LSTM(units = 50, return_sequences = True))\n",
        "regressor.add(Dropout(0.2))\n",
        "regressor.add(LSTM(units = 50, return_sequences = True))\n",
        "regressor.add(Dropout(0.2))\n",
        "regressor.add(LSTM(64,input_shape=(64,32,16),return_sequences=False))\n",
        "regressor.add(Dropout(0.2))\n",
        "#regressor.add(LSTM(units = 50))\n",
        "regressor.add(Dropout(0.2))\n",
        "regressor.add(Dense(1,activation='linear'))\n",
        "regressor.add(Dense(units = 1))"
      ]
    },
    {
      "cell_type": "code",
      "execution_count": 76,
      "metadata": {
        "id": "Cup2WtX0iqos"
      },
      "outputs": [],
      "source": [
        "regressor.compile(optimizer='adam', loss='mean_squared_error')\n"
      ]
    },
    {
      "cell_type": "code",
      "execution_count": 77,
      "metadata": {
        "colab": {
          "base_uri": "https://localhost:8080/"
        },
        "id": "hsbzSYxTkfYK",
        "outputId": "c9551aa5-0667-4984-be50-0995a2a6ec29"
      },
      "outputs": [
        {
          "name": "stdout",
          "output_type": "stream",
          "text": [
            "Epoch 1/20\n",
            "45/45 [==============================] - 12s 64ms/step - loss: 0.0419\n",
            "Epoch 2/20\n",
            "45/45 [==============================] - 3s 62ms/step - loss: 0.0108\n",
            "Epoch 3/20\n",
            "45/45 [==============================] - 3s 65ms/step - loss: 0.0095\n",
            "Epoch 4/20\n",
            "45/45 [==============================] - 3s 62ms/step - loss: 0.0084\n",
            "Epoch 5/20\n",
            "45/45 [==============================] - 3s 62ms/step - loss: 0.0093\n",
            "Epoch 6/20\n",
            "45/45 [==============================] - 3s 62ms/step - loss: 0.0083\n",
            "Epoch 7/20\n",
            "45/45 [==============================] - 3s 62ms/step - loss: 0.0071\n",
            "Epoch 8/20\n",
            "45/45 [==============================] - 3s 62ms/step - loss: 0.0069\n",
            "Epoch 9/20\n",
            "45/45 [==============================] - 3s 62ms/step - loss: 0.0063\n",
            "Epoch 10/20\n",
            "45/45 [==============================] - 3s 62ms/step - loss: 0.0062\n",
            "Epoch 11/20\n",
            "45/45 [==============================] - 3s 61ms/step - loss: 0.0055\n",
            "Epoch 12/20\n",
            "45/45 [==============================] - 3s 61ms/step - loss: 0.0054\n",
            "Epoch 13/20\n",
            "45/45 [==============================] - 3s 62ms/step - loss: 0.0056\n",
            "Epoch 14/20\n",
            "45/45 [==============================] - 3s 64ms/step - loss: 0.0046\n",
            "Epoch 15/20\n",
            "45/45 [==============================] - 3s 67ms/step - loss: 0.0053\n",
            "Epoch 16/20\n",
            "45/45 [==============================] - 3s 65ms/step - loss: 0.0047\n",
            "Epoch 17/20\n",
            "45/45 [==============================] - 3s 67ms/step - loss: 0.0042\n",
            "Epoch 18/20\n",
            "45/45 [==============================] - 3s 67ms/step - loss: 0.0043\n",
            "Epoch 19/20\n",
            "45/45 [==============================] - 3s 63ms/step - loss: 0.0040\n",
            "Epoch 20/20\n",
            "45/45 [==============================] - 3s 62ms/step - loss: 0.0036\n"
          ]
        },
        {
          "data": {
            "text/plain": [
              "<keras.callbacks.History at 0x7f3db1ec1510>"
            ]
          },
          "execution_count": 77,
          "metadata": {},
          "output_type": "execute_result"
        }
      ],
      "source": [
        "regressor.fit(X_train,y_train, epochs=20,batch_size=32)"
      ]
    },
    {
      "cell_type": "code",
      "execution_count": 78,
      "metadata": {
        "colab": {
          "base_uri": "https://localhost:8080/"
        },
        "id": "JWHud1AVe4fe",
        "outputId": "1b25019f-e717-474f-c1e0-31d3166c73eb"
      },
      "outputs": [
        {
          "name": "stdout",
          "output_type": "stream",
          "text": [
            "Model: \"sequential_6\"\n",
            "_________________________________________________________________\n",
            " Layer (type)                Output Shape              Param #   \n",
            "=================================================================\n",
            " lstm_10 (LSTM)              (None, 60, 50)            10400     \n",
            "                                                                 \n",
            " dropout_12 (Dropout)        (None, 60, 50)            0         \n",
            "                                                                 \n",
            " lstm_11 (LSTM)              (None, 60, 50)            20200     \n",
            "                                                                 \n",
            " dropout_13 (Dropout)        (None, 60, 50)            0         \n",
            "                                                                 \n",
            " lstm_12 (LSTM)              (None, 60, 50)            20200     \n",
            "                                                                 \n",
            " dropout_14 (Dropout)        (None, 60, 50)            0         \n",
            "                                                                 \n",
            " lstm_13 (LSTM)              (None, 64)                29440     \n",
            "                                                                 \n",
            " dropout_15 (Dropout)        (None, 64)                0         \n",
            "                                                                 \n",
            " dropout_16 (Dropout)        (None, 64)                0         \n",
            "                                                                 \n",
            " dense_4 (Dense)             (None, 1)                 65        \n",
            "                                                                 \n",
            " dense_5 (Dense)             (None, 1)                 2         \n",
            "                                                                 \n",
            "=================================================================\n",
            "Total params: 80,307\n",
            "Trainable params: 80,307\n",
            "Non-trainable params: 0\n",
            "_________________________________________________________________\n"
          ]
        }
      ],
      "source": [
        "regressor.summary()"
      ]
    },
    {
      "cell_type": "code",
      "execution_count": 89,
      "metadata": {
        "id": "JN4nc8BM_nHA"
      },
      "outputs": [],
      "source": [
        "dt_train = data.iloc[:1482, 1:2]\n",
        "dt_test = data.iloc[1482:, 1:2]\n",
        "dataset_total = pd.concat((dt_train, dt_test), axis = 0)\n",
        "inputs = dataset_total[len(dataset_total) - len(dt_test) - 60:].values\n",
        "inputs = inputs.reshape(-1,1)\n",
        "inputs = sc.transform(inputs)\n",
        "X_test = []\n",
        "for i in range(60, 4000):\n",
        "    X_test.append(inputs[i-60:i, 0])\n",
        "X_test = np.array(X_test)\n",
        "X_test = np.reshape(X_test, (X_test.shape[0], X_test.shape[1], 1))\n"
      ]
    },
    {
      "cell_type": "code",
      "execution_count": 90,
      "metadata": {
        "id": "MPNKdw9BC6JZ"
      },
      "outputs": [],
      "source": [
        "predict_train = regressor.predict(X_train)\n",
        "predicted_stock_price = regressor.predict(X_test)\n",
        "predict_train = sc.inverse_transform(predict_train)\n",
        "predicted_stock_price = sc.inverse_transform(predicted_stock_price)"
      ]
    },
    {
      "cell_type": "code",
      "execution_count": 91,
      "metadata": {
        "colab": {
          "base_uri": "https://localhost:8080/",
          "height": 416
        },
        "id": "FgJV4e7lDG0I",
        "outputId": "3382b4d3-108b-4c88-d535-4804bd3eadb8"
      },
      "outputs": [
        {
          "data": {
            "image/png": "[encoded data removed]",
            "text/plain": [
              "<Figure size 1152x504 with 1 Axes>"
            ]
          },
          "metadata": {
            "needs_background": "light"
          },
          "output_type": "display_data"
        }
      ],
      "source": [
        "plt.figure(figsize=(16,7))\n",
        "plt.plot(dt_test.values, color = 'green', label = 'IBM Stock Price')\n",
        "plt.plot(predicted_stock_price, color = 'red', label = 'Predicted IBM Stock Price')\n",
        "plt.title('IBM Stock Price Prediction')\n",
        "plt.xlabel('Trading Day')\n",
        "plt.ylabel('IBM Stock Price')\n",
        "plt.legend()\n",
        "plt.show()"
      ]
    },
    {
      "cell_type": "code",
      "execution_count": null,
      "metadata": {
        "id": "-j9oGuszUNXe"
      },
      "outputs": [],
      "source": []
    }
  ],
  "metadata": {
    "accelerator": "GPU",
    "colab": {
      "collapsed_sections": [],
      "name": "Untitled8.ipynb",
      "provenance": []
    },
    "kernelspec": {
      "display_name": "Python 3",
      "name": "python3"
    },
    "language_info": {
      "name": "python"
    }
  },
  "nbformat": 4,
  "nbformat_minor": 0
}
