{
  "nbformat": 4,
  "nbformat_minor": 0,
  "metadata": {
    "colab": {
      "name": "StockEX.ipynb",
      "provenance": [],
      "collapsed_sections": []
    },
    "kernelspec": {
      "name": "python3",
      "display_name": "Python 3"
    },
    "language_info": {
      "name": "python"
    }
  },
  "cells": [
    {
      "cell_type": "code",
      "metadata": {
        "id": "l0lz9yumQ06w"
      },
      "source": [
        "import tensorflow as tf\n",
        "import pandas as pd\n",
        "import matplotlib.pyplot as plt\n",
        "import tensorflow.keras as keras\n",
        "import numpy as np"
      ],
      "execution_count": null,
      "outputs": []
    },
    {
      "cell_type": "markdown",
      "metadata": {
        "id": "EyKlLDL_Uki9"
      },
      "source": [
        "## Data Preprocessing part\n",
        "\n",
        "From this section, data preprocessing and analysis part starts here..."
      ]
    },
    {
      "cell_type": "code",
      "metadata": {
        "colab": {
          "base_uri": "https://localhost:8080/",
          "height": 206
        },
        "id": "_GYtZl3fRPiG",
        "outputId": "39892d80-95d8-44f2-c115-c9e8c5855d77"
      },
      "source": [
        "data = pd.read_csv(\"./ITC.csv\")\n",
        "data.head()"
      ],
      "execution_count": null,
      "outputs": [
        {
          "output_type": "execute_result",
          "data": {
            "text/html": [
              "<div>\n",
              "<style scoped>\n",
              "    .dataframe tbody tr th:only-of-type {\n",
              "        vertical-align: middle;\n",
              "    }\n",
              "\n",
              "    .dataframe tbody tr th {\n",
              "        vertical-align: top;\n",
              "    }\n",
              "\n",
              "    .dataframe thead th {\n",
              "        text-align: right;\n",
              "    }\n",
              "</style>\n",
              "<table border=\"1\" class=\"dataframe\">\n",
              "  <thead>\n",
              "    <tr style=\"text-align: right;\">\n",
              "      <th></th>\n",
              "      <th>Date</th>\n",
              "      <th>Symbol</th>\n",
              "      <th>Series</th>\n",
              "      <th>Prev Close</th>\n",
              "      <th>Open</th>\n",
              "      <th>High</th>\n",
              "      <th>Low</th>\n",
              "      <th>Last</th>\n",
              "      <th>Close</th>\n",
              "      <th>VWAP</th>\n",
              "      <th>Volume</th>\n",
              "      <th>Turnover</th>\n",
              "      <th>Trades</th>\n",
              "      <th>Deliverable Volume</th>\n",
              "      <th>%Deliverble</th>\n",
              "    </tr>\n",
              "  </thead>\n",
              "  <tbody>\n",
              "    <tr>\n",
              "      <th>0</th>\n",
              "      <td>2000-01-03</td>\n",
              "      <td>ITC</td>\n",
              "      <td>EQ</td>\n",
              "      <td>656.00</td>\n",
              "      <td>694.00</td>\n",
              "      <td>708.50</td>\n",
              "      <td>675.0</td>\n",
              "      <td>708.50</td>\n",
              "      <td>708.50</td>\n",
              "      <td>701.81</td>\n",
              "      <td>562715</td>\n",
              "      <td>3.949174e+13</td>\n",
              "      <td>NaN</td>\n",
              "      <td>NaN</td>\n",
              "      <td>NaN</td>\n",
              "    </tr>\n",
              "    <tr>\n",
              "      <th>1</th>\n",
              "      <td>2000-01-04</td>\n",
              "      <td>ITC</td>\n",
              "      <td>EQ</td>\n",
              "      <td>708.50</td>\n",
              "      <td>714.00</td>\n",
              "      <td>729.00</td>\n",
              "      <td>694.3</td>\n",
              "      <td>710.65</td>\n",
              "      <td>712.35</td>\n",
              "      <td>714.16</td>\n",
              "      <td>712637</td>\n",
              "      <td>5.089379e+13</td>\n",
              "      <td>NaN</td>\n",
              "      <td>NaN</td>\n",
              "      <td>NaN</td>\n",
              "    </tr>\n",
              "    <tr>\n",
              "      <th>2</th>\n",
              "      <td>2000-01-05</td>\n",
              "      <td>ITC</td>\n",
              "      <td>EQ</td>\n",
              "      <td>712.35</td>\n",
              "      <td>716.25</td>\n",
              "      <td>758.90</td>\n",
              "      <td>660.0</td>\n",
              "      <td>731.00</td>\n",
              "      <td>726.20</td>\n",
              "      <td>732.43</td>\n",
              "      <td>1382149</td>\n",
              "      <td>1.012325e+14</td>\n",
              "      <td>NaN</td>\n",
              "      <td>NaN</td>\n",
              "      <td>NaN</td>\n",
              "    </tr>\n",
              "    <tr>\n",
              "      <th>3</th>\n",
              "      <td>2000-01-06</td>\n",
              "      <td>ITC</td>\n",
              "      <td>EQ</td>\n",
              "      <td>726.20</td>\n",
              "      <td>741.00</td>\n",
              "      <td>784.30</td>\n",
              "      <td>741.0</td>\n",
              "      <td>784.30</td>\n",
              "      <td>784.30</td>\n",
              "      <td>776.63</td>\n",
              "      <td>721618</td>\n",
              "      <td>5.604266e+13</td>\n",
              "      <td>NaN</td>\n",
              "      <td>NaN</td>\n",
              "      <td>NaN</td>\n",
              "    </tr>\n",
              "    <tr>\n",
              "      <th>4</th>\n",
              "      <td>2000-01-07</td>\n",
              "      <td>ITC</td>\n",
              "      <td>EQ</td>\n",
              "      <td>784.30</td>\n",
              "      <td>832.40</td>\n",
              "      <td>847.05</td>\n",
              "      <td>824.0</td>\n",
              "      <td>847.05</td>\n",
              "      <td>847.05</td>\n",
              "      <td>841.25</td>\n",
              "      <td>231209</td>\n",
              "      <td>1.945046e+13</td>\n",
              "      <td>NaN</td>\n",
              "      <td>NaN</td>\n",
              "      <td>NaN</td>\n",
              "    </tr>\n",
              "  </tbody>\n",
              "</table>\n",
              "</div>"
            ],
            "text/plain": [
              "         Date Symbol Series  ...  Trades  Deliverable Volume  %Deliverble\n",
              "0  2000-01-03    ITC     EQ  ...     NaN                 NaN          NaN\n",
              "1  2000-01-04    ITC     EQ  ...     NaN                 NaN          NaN\n",
              "2  2000-01-05    ITC     EQ  ...     NaN                 NaN          NaN\n",
              "3  2000-01-06    ITC     EQ  ...     NaN                 NaN          NaN\n",
              "4  2000-01-07    ITC     EQ  ...     NaN                 NaN          NaN\n",
              "\n",
              "[5 rows x 15 columns]"
            ]
          },
          "metadata": {},
          "execution_count": 2
        }
      ]
    },
    {
      "cell_type": "code",
      "metadata": {
        "colab": {
          "base_uri": "https://localhost:8080/",
          "height": 283
        },
        "id": "3SVjE75bRVBP",
        "outputId": "717604a7-7be0-4cd3-b151-0c4935bcd6f2"
      },
      "source": [
        "from sklearn.preprocessing import MinMaxScaler\n",
        "\n",
        "scale = MinMaxScaler(feature_range=(0,1))\n",
        "\n",
        "data['Date'] = pd.to_datetime(data.Date, format=\"%Y-%m-%d\")\n",
        "data.index = data['Date']\n",
        "\n",
        "plt.plot(data['Close'], label=\"Close price\")"
      ],
      "execution_count": null,
      "outputs": [
        {
          "output_type": "execute_result",
          "data": {
            "text/plain": [
              "[<matplotlib.lines.Line2D at 0x7f4382d19990>]"
            ]
          },
          "metadata": {},
          "execution_count": 3
        },
        {
          "output_type": "display_data",
          "data": {
            "image/png": "[encoded data removed]",
            "text/plain": [
              "<Figure size 432x288 with 1 Axes>"
            ]
          },
          "metadata": {
            "needs_background": "light"
          }
        }
      ]
    },
    {
      "cell_type": "code",
      "metadata": {
        "id": "Tg6k78_sSI1l"
      },
      "source": [
        "new_dat = pd.DataFrame(index=range(0, len(data)), columns=['Date', 'Close'])\n",
        "for i in range(0, len(data)):\n",
        "  new_dat['Date'][i] = data['Date'][i]\n",
        "  new_dat['Close'][i] = data['Close'][i]\n",
        "  \n",
        "new_dat.index = new_dat.Date\n",
        "new_dat.drop('Date', axis=1, inplace=True)"
      ],
      "execution_count": null,
      "outputs": []
    },
    {
      "cell_type": "code",
      "metadata": {
        "id": "mFypLgRyS3_k"
      },
      "source": [
        "# Split\n",
        "from sklearn.model_selection import train_test_split\n",
        "\n",
        "X = []\n",
        "Y = []\n",
        "window_size=50\n",
        "for i in range(0 , len(data) - window_size -1 , 1):\n",
        "    first = data.iloc[i, 4]\n",
        "    temp = []\n",
        "    temp2 = []\n",
        "    for j in range(window_size):\n",
        "        temp.append((data.iloc[i + j, 8] - first) / first)\n",
        "    # for j in range(week):\n",
        "    temp2.append((data.iloc[i +window_size, 8] - first) / first)\n",
        "    # X.append(np.array(stock.iloc[i:i+window_size,4]).reshape(50,1))\n",
        "    # Y.append(np.array(stock.iloc[i+window_size,4]).reshape(1,1))\n",
        "    # print(stock2.iloc[i:i+window_size,4])\n",
        "    X.append(np.array(temp).reshape(50, 1))\n",
        "    Y.append(np.array(temp2).reshape(1,1))\n",
        "\n",
        "x_train, x_test, train_label, test_label = train_test_split(X, Y, test_size=0.2, shuffle=True)\n",
        "\n",
        "train_X = np.array(x_train)\n",
        "test_X = np.array(x_test)\n",
        "train_label = np.array(train_label)\n",
        "test_label = np.array(test_label)\n",
        "\n",
        "train_X = train_X.reshape(train_X.shape[0],1,50,1)\n",
        "test_X = test_X.reshape(test_X.shape[0],1,50,1)"
      ],
      "execution_count": null,
      "outputs": []
    },
    {
      "cell_type": "markdown",
      "metadata": {
        "id": "3KqtOpjVUvbH"
      },
      "source": [
        "## Training part\n",
        "From this section, model creation, training is done..."
      ]
    },
    {
      "cell_type": "code",
      "metadata": {
        "colab": {
          "base_uri": "https://localhost:8080/"
        },
        "id": "9F3BF2oGTSki",
        "outputId": "aba76d30-d9b8-4c7a-9ba4-e9bf6768b873"
      },
      "source": [
        "from keras.layers import LSTM, Dense, Conv1D, MaxPooling1D, Dropout, Activation, Flatten, Bidirectional, TimeDistributed, MaxPool2D\n",
        "from keras.layers import GlobalAveragePooling2D\n",
        "\n",
        "model = keras.Sequential()\n",
        "model.add(TimeDistributed(Conv1D(128, kernel_size=1, activation='relu', input_shape=(None,50,1))))\n",
        "model.add(TimeDistributed(MaxPooling1D(2)))\n",
        "model.add(TimeDistributed(Conv1D(256, kernel_size=1, activation='relu')))\n",
        "model.add(TimeDistributed(MaxPooling1D(2)))\n",
        "model.add(TimeDistributed(Conv1D(512, kernel_size=1, activation='relu')))\n",
        "model.add(TimeDistributed(MaxPooling1D(2)))\n",
        "model.add(TimeDistributed(Flatten()))\n",
        "model.add(Bidirectional(LSTM(200,return_sequences=True)))\n",
        "model.add(Dropout(0.25))\n",
        "model.add(Bidirectional(LSTM(200,return_sequences=False)))\n",
        "model.add(Dropout(0.5))\n",
        "model.add(Dense(1, activation='linear'))\n",
        "model.compile(optimizer='RMSprop', loss='mse')\n",
        "model.fit(train_X, train_label, validation_data=(test_X,test_label), epochs=40,batch_size=64,shuffle =False)"
      ],
      "execution_count": null,
      "outputs": [
        {
          "output_type": "stream",
          "name": "stdout",
          "text": [
            "Epoch 1/40\n",
            "66/66 [==============================] - 21s 184ms/step - loss: 0.0067 - val_loss: 0.0028\n",
            "Epoch 2/40\n",
            "66/66 [==============================] - 10s 154ms/step - loss: 0.0042 - val_loss: 0.0033\n",
            "Epoch 3/40\n",
            "66/66 [==============================] - 10s 150ms/step - loss: 0.0036 - val_loss: 0.0027\n",
            "Epoch 4/40\n",
            "66/66 [==============================] - 10s 151ms/step - loss: 0.0036 - val_loss: 0.0038\n",
            "Epoch 5/40\n",
            "66/66 [==============================] - 10s 154ms/step - loss: 0.0036 - val_loss: 0.0038\n",
            "Epoch 6/40\n",
            "66/66 [==============================] - 10s 152ms/step - loss: 0.0035 - val_loss: 0.0022\n",
            "Epoch 7/40\n",
            "66/66 [==============================] - 10s 154ms/step - loss: 0.0035 - val_loss: 0.0038\n",
            "Epoch 8/40\n",
            "66/66 [==============================] - 10s 159ms/step - loss: 0.0033 - val_loss: 0.0060\n",
            "Epoch 9/40\n",
            "66/66 [==============================] - 10s 156ms/step - loss: 0.0032 - val_loss: 0.0039\n",
            "Epoch 10/40\n",
            "66/66 [==============================] - 10s 159ms/step - loss: 0.0032 - val_loss: 0.0031\n",
            "Epoch 11/40\n",
            "66/66 [==============================] - 10s 151ms/step - loss: 0.0031 - val_loss: 0.0033\n",
            "Epoch 12/40\n",
            "66/66 [==============================] - 10s 152ms/step - loss: 0.0032 - val_loss: 0.0025\n",
            "Epoch 13/40\n",
            "66/66 [==============================] - 10s 152ms/step - loss: 0.0032 - val_loss: 0.0019\n",
            "Epoch 14/40\n",
            "66/66 [==============================] - 10s 152ms/step - loss: 0.0030 - val_loss: 0.0039\n",
            "Epoch 15/40\n",
            "66/66 [==============================] - 10s 154ms/step - loss: 0.0031 - val_loss: 0.0032\n",
            "Epoch 16/40\n",
            "66/66 [==============================] - 10s 153ms/step - loss: 0.0031 - val_loss: 0.0025\n",
            "Epoch 17/40\n",
            "66/66 [==============================] - 10s 153ms/step - loss: 0.0030 - val_loss: 0.0022\n",
            "Epoch 18/40\n",
            "66/66 [==============================] - 10s 154ms/step - loss: 0.0030 - val_loss: 0.0019\n",
            "Epoch 19/40\n",
            "66/66 [==============================] - 10s 155ms/step - loss: 0.0030 - val_loss: 0.0021\n",
            "Epoch 20/40\n",
            "66/66 [==============================] - 10s 154ms/step - loss: 0.0030 - val_loss: 0.0021\n",
            "Epoch 21/40\n",
            "66/66 [==============================] - 10s 152ms/step - loss: 0.0030 - val_loss: 0.0019\n",
            "Epoch 22/40\n",
            "66/66 [==============================] - 10s 155ms/step - loss: 0.0029 - val_loss: 0.0019\n",
            "Epoch 23/40\n",
            "66/66 [==============================] - 10s 151ms/step - loss: 0.0029 - val_loss: 0.0021\n",
            "Epoch 24/40\n",
            "66/66 [==============================] - 10s 151ms/step - loss: 0.0029 - val_loss: 0.0020\n",
            "Epoch 25/40\n",
            "66/66 [==============================] - 10s 150ms/step - loss: 0.0030 - val_loss: 0.0019\n",
            "Epoch 26/40\n",
            "66/66 [==============================] - 10s 150ms/step - loss: 0.0029 - val_loss: 0.0021\n",
            "Epoch 27/40\n",
            "66/66 [==============================] - 10s 151ms/step - loss: 0.0029 - val_loss: 0.0026\n",
            "Epoch 28/40\n",
            "66/66 [==============================] - 10s 152ms/step - loss: 0.0029 - val_loss: 0.0022\n",
            "Epoch 29/40\n",
            "66/66 [==============================] - 10s 154ms/step - loss: 0.0028 - val_loss: 0.0021\n",
            "Epoch 30/40\n",
            "66/66 [==============================] - 10s 153ms/step - loss: 0.0029 - val_loss: 0.0023\n",
            "Epoch 31/40\n",
            "66/66 [==============================] - 10s 157ms/step - loss: 0.0028 - val_loss: 0.0018\n",
            "Epoch 32/40\n",
            "66/66 [==============================] - 10s 153ms/step - loss: 0.0029 - val_loss: 0.0018\n",
            "Epoch 33/40\n",
            "66/66 [==============================] - 10s 153ms/step - loss: 0.0028 - val_loss: 0.0018\n",
            "Epoch 34/40\n",
            "66/66 [==============================] - 10s 154ms/step - loss: 0.0028 - val_loss: 0.0022\n",
            "Epoch 35/40\n",
            "66/66 [==============================] - 10s 151ms/step - loss: 0.0028 - val_loss: 0.0026\n",
            "Epoch 36/40\n",
            "66/66 [==============================] - 10s 155ms/step - loss: 0.0028 - val_loss: 0.0024\n",
            "Epoch 37/40\n",
            "66/66 [==============================] - 10s 153ms/step - loss: 0.0027 - val_loss: 0.0019\n",
            "Epoch 38/40\n",
            "66/66 [==============================] - 10s 153ms/step - loss: 0.0027 - val_loss: 0.0026\n",
            "Epoch 39/40\n",
            "66/66 [==============================] - 10s 148ms/step - loss: 0.0028 - val_loss: 0.0021\n",
            "Epoch 40/40\n",
            "66/66 [==============================] - 10s 149ms/step - loss: 0.0028 - val_loss: 0.0018\n"
          ]
        },
        {
          "output_type": "execute_result",
          "data": {
            "text/plain": [
              "<keras.callbacks.History at 0x7f437de87650>"
            ]
          },
          "metadata": {},
          "execution_count": 30
        }
      ]
    },
    {
      "cell_type": "markdown",
      "metadata": {
        "id": "8aaPlX3fU3sQ"
      },
      "source": [
        "## Testing\n",
        "From this section, testing needs to be done... Needs with help of a mate"
      ]
    },
    {
      "cell_type": "code",
      "metadata": {
        "colab": {
          "base_uri": "https://localhost:8080/",
          "height": 295
        },
        "id": "ntmZYQ7oKadL",
        "outputId": "c8e6b58d-6466-4641-9ef2-d64759823d1e"
      },
      "source": [
        "predicted  = model.predict(test_X)\n",
        "test_label = (test_label)\n",
        "predicted = np.array(predicted[:,0]).reshape(-1,1)\n",
        "len_t = len(train_X)\n",
        "for j in range(len_t , len_t + len(test_X)):\n",
        "    temp =data.iloc[j,8]\n",
        "    test_label[j - len_t] = test_label[j - len_t] * temp + temp\n",
        "    predicted[j - len_t] = predicted[j - len_t] * temp + temp\n",
        "plt.plot(predicted, color = 'green', label = 'Predicted  Stock Price')\n",
        "plt.title(' Stock Price Prediction')\n",
        "plt.xlabel('Time')\n",
        "plt.ylabel(' Stock Price')\n",
        "plt.legend()\n",
        "plt.show()"
      ],
      "execution_count": null,
      "outputs": [
        {
          "output_type": "display_data",
          "data": {
            "image/png": "[encoded data removed]",
            "text/plain": [
              "<Figure size 432x288 with 1 Axes>"
            ]
          },
          "metadata": {
            "needs_background": "light"
          }
        }
      ]
    }
  ]
}